{
 "cells": [
  {
   "cell_type": "code",
   "execution_count": 2,
   "metadata": {},
   "outputs": [
    {
     "name": "stdout",
     "output_type": "stream",
     "text": [
      "oops!\n",
      "xyz\n"
     ]
    }
   ],
   "source": [
    "if 1<2:\n",
    "    print(\"oops!\")\n",
    "    print(\"xyz\")\n",
    "else:\n",
    "    print(\"this is what we expect\")\n",
    "    print(\"abc\")"
   ]
  },
  {
   "cell_type": "code",
   "execution_count": 3,
   "metadata": {},
   "outputs": [],
   "source": [
    "y=5 ; x=3"
   ]
  },
  {
   "cell_type": "code",
   "execution_count": 4,
   "metadata": {},
   "outputs": [
    {
     "data": {
      "text/plain": [
       "5"
      ]
     },
     "execution_count": 4,
     "metadata": {},
     "output_type": "execute_result"
    }
   ],
   "source": [
    "y"
   ]
  },
  {
   "cell_type": "code",
   "execution_count": 5,
   "metadata": {},
   "outputs": [
    {
     "data": {
      "text/plain": [
       "3"
      ]
     },
     "execution_count": 5,
     "metadata": {},
     "output_type": "execute_result"
    }
   ],
   "source": [
    "x"
   ]
  },
  {
   "cell_type": "code",
   "execution_count": 9,
   "metadata": {},
   "outputs": [],
   "source": [
    "y = x + \\\n",
    "        3"
   ]
  },
  {
   "cell_type": "code",
   "execution_count": 10,
   "metadata": {},
   "outputs": [
    {
     "data": {
      "text/plain": [
       "6"
      ]
     },
     "execution_count": 10,
     "metadata": {},
     "output_type": "execute_result"
    }
   ],
   "source": [
    "y"
   ]
  },
  {
   "cell_type": "code",
   "execution_count": 22,
   "metadata": {},
   "outputs": [],
   "source": [
    "s = \"\"\"This a ' doesn't end\n",
    "... this continues\"\"\""
   ]
  },
  {
   "cell_type": "code",
   "execution_count": 23,
   "metadata": {},
   "outputs": [
    {
     "data": {
      "text/plain": [
       "\"This a ' doesn't end\\nthis continues\""
      ]
     },
     "execution_count": 23,
     "metadata": {},
     "output_type": "execute_result"
    }
   ],
   "source": [
    "s"
   ]
  },
  {
   "cell_type": "code",
   "execution_count": 18,
   "metadata": {},
   "outputs": [],
   "source": [
    "d= \"\"\"Note that a ' doesn't end\n",
    "... this string and that it spans two lines\"\"\""
   ]
  },
  {
   "cell_type": "code",
   "execution_count": 19,
   "metadata": {},
   "outputs": [
    {
     "data": {
      "text/plain": [
       "\"Note that a ' doesn't end\\nthis string and that it spans two lines\""
      ]
     },
     "execution_count": 19,
     "metadata": {},
     "output_type": "execute_result"
    }
   ],
   "source": [
    "d"
   ]
  },
  {
   "cell_type": "code",
   "execution_count": 24,
   "metadata": {},
   "outputs": [
    {
     "name": "stdout",
     "output_type": "stream",
     "text": [
      "Note that a ' doesn't end\n",
      "this string and that it spans two lines\n"
     ]
    }
   ],
   "source": [
    "print(d)"
   ]
  },
  {
   "cell_type": "code",
   "execution_count": 25,
   "metadata": {},
   "outputs": [
    {
     "name": "stdout",
     "output_type": "stream",
     "text": [
      "This spans \n",
      " two lines\n"
     ]
    }
   ],
   "source": [
    "print(\"This spans \\n two lines\")"
   ]
  },
  {
   "cell_type": "code",
   "execution_count": 26,
   "metadata": {},
   "outputs": [],
   "source": [
    "import numpy as np"
   ]
  },
  {
   "cell_type": "code",
   "execution_count": 27,
   "metadata": {},
   "outputs": [
    {
     "name": "stdout",
     "output_type": "stream",
     "text": [
      "<class 'module'>\n"
     ]
    }
   ],
   "source": [
    "print(type(np))"
   ]
  },
  {
   "cell_type": "code",
   "execution_count": 28,
   "metadata": {},
   "outputs": [
    {
     "name": "stdout",
     "output_type": "stream",
     "text": [
      "<class 'float'>\n",
      "<class 'float'>\n"
     ]
    }
   ],
   "source": [
    "print(type(np.pi))\n",
    "x=np.pi\n",
    "print(type(x))"
   ]
  },
  {
   "cell_type": "code",
   "execution_count": 29,
   "metadata": {},
   "outputs": [
    {
     "name": "stdout",
     "output_type": "stream",
     "text": [
      "<class 'numpy.ufunc'>\n"
     ]
    }
   ],
   "source": [
    "print(type(np.cos))"
   ]
  },
  {
   "cell_type": "code",
   "execution_count": 30,
   "metadata": {},
   "outputs": [
    {
     "name": "stdout",
     "output_type": "stream",
     "text": [
      "[0.         0.71428571 1.42857143 2.14285714 2.85714286 3.57142857\n",
      " 4.28571429 5.        ]\n"
     ]
    }
   ],
   "source": [
    "x=np.linspace(0,5,8)\n",
    "print(x)"
   ]
  },
  {
   "cell_type": "code",
   "execution_count": 31,
   "metadata": {},
   "outputs": [
    {
     "name": "stdout",
     "output_type": "stream",
     "text": [
      "<class 'numpy.ndarray'>\n"
     ]
    }
   ],
   "source": [
    "print(type(x))"
   ]
  },
  {
   "cell_type": "code",
   "execution_count": 32,
   "metadata": {},
   "outputs": [
    {
     "data": {
      "text/plain": [
       "5.0"
      ]
     },
     "execution_count": 32,
     "metadata": {},
     "output_type": "execute_result"
    }
   ],
   "source": [
    "np.max(x)"
   ]
  },
  {
   "cell_type": "code",
   "execution_count": 34,
   "metadata": {},
   "outputs": [
    {
     "data": {
      "text/plain": [
       "5.0"
      ]
     },
     "execution_count": 34,
     "metadata": {},
     "output_type": "execute_result"
    }
   ],
   "source": [
    "x.max()"
   ]
  },
  {
   "cell_type": "code",
   "execution_count": 35,
   "metadata": {},
   "outputs": [],
   "source": [
    "L =[0,1,2]"
   ]
  },
  {
   "cell_type": "code",
   "execution_count": 36,
   "metadata": {},
   "outputs": [
    {
     "data": {
      "text/plain": [
       "list"
      ]
     },
     "execution_count": 36,
     "metadata": {},
     "output_type": "execute_result"
    }
   ],
   "source": [
    "type(L)"
   ]
  },
  {
   "cell_type": "code",
   "execution_count": 37,
   "metadata": {},
   "outputs": [],
   "source": [
    "L.append(4)"
   ]
  },
  {
   "cell_type": "code",
   "execution_count": 38,
   "metadata": {},
   "outputs": [
    {
     "data": {
      "text/plain": [
       "[0, 1, 2, 4]"
      ]
     },
     "execution_count": 38,
     "metadata": {},
     "output_type": "execute_result"
    }
   ],
   "source": [
    "L"
   ]
  },
  {
   "cell_type": "code",
   "execution_count": 39,
   "metadata": {},
   "outputs": [],
   "source": [
    "x=3.4"
   ]
  },
  {
   "cell_type": "code",
   "execution_count": 40,
   "metadata": {},
   "outputs": [
    {
     "data": {
      "text/plain": [
       "6.8"
      ]
     },
     "execution_count": 40,
     "metadata": {},
     "output_type": "execute_result"
    }
   ],
   "source": [
    "2*x"
   ]
  },
  {
   "cell_type": "code",
   "execution_count": 41,
   "metadata": {},
   "outputs": [],
   "source": [
    "x= 'string'"
   ]
  },
  {
   "cell_type": "code",
   "execution_count": 42,
   "metadata": {},
   "outputs": [
    {
     "data": {
      "text/plain": [
       "'stringstring'"
      ]
     },
     "execution_count": 42,
     "metadata": {},
     "output_type": "execute_result"
    }
   ],
   "source": [
    "2*x"
   ]
  },
  {
   "cell_type": "code",
   "execution_count": 43,
   "metadata": {},
   "outputs": [],
   "source": [
    "x=[4,5,6]"
   ]
  },
  {
   "cell_type": "code",
   "execution_count": 44,
   "metadata": {},
   "outputs": [
    {
     "data": {
      "text/plain": [
       "[4, 5, 6, 4, 5, 6]"
      ]
     },
     "execution_count": 44,
     "metadata": {},
     "output_type": "execute_result"
    }
   ],
   "source": [
    "x*2"
   ]
  },
  {
   "cell_type": "code",
   "execution_count": 45,
   "metadata": {},
   "outputs": [],
   "source": [
    "L =[4,5,6]"
   ]
  },
  {
   "cell_type": "code",
   "execution_count": 46,
   "metadata": {},
   "outputs": [
    {
     "data": {
      "text/plain": [
       "[4, 5, 6]"
      ]
     },
     "execution_count": 46,
     "metadata": {},
     "output_type": "execute_result"
    }
   ],
   "source": [
    "L[0:]"
   ]
  },
  {
   "cell_type": "code",
   "execution_count": 47,
   "metadata": {},
   "outputs": [
    {
     "data": {
      "text/plain": [
       "5"
      ]
     },
     "execution_count": 47,
     "metadata": {},
     "output_type": "execute_result"
    }
   ],
   "source": [
    "L[1]"
   ]
  },
  {
   "cell_type": "code",
   "execution_count": 49,
   "metadata": {},
   "outputs": [
    {
     "name": "stdout",
     "output_type": "stream",
     "text": [
      "5\n",
      "2.3\n",
      "abc\n",
      "[4, 'b']\n",
      "<ufunc 'cos'>\n"
     ]
    }
   ],
   "source": [
    "L=[5,2.3,'abc',[4,'b'],np.cos]\n",
    "for i in L:\n",
    "        print(i)"
   ]
  },
  {
   "cell_type": "code",
   "execution_count": 58,
   "metadata": {},
   "outputs": [
    {
     "name": "stdout",
     "output_type": "stream",
     "text": [
      "L[0] is                5 <class 'int'>\n",
      "0 5\n",
      "L[1] is              2.3 <class 'float'>\n",
      "1 2.3\n",
      "L[2] is              abc <class 'str'>\n",
      "2 abc\n",
      "L[3] is         [4, 'b'] <class 'list'>\n",
      "3 [4, 'b']\n",
      "L[4] is    <ufunc 'cos'> <class 'numpy.ufunc'>\n",
      "4 <ufunc 'cos'>\n"
     ]
    }
   ],
   "source": [
    "for index,value in enumerate(L):\n",
    "    print('L[%s] is %16s %s' % (index,value,type(value)))\n",
    "    print(index,value)"
   ]
  },
  {
   "cell_type": "code",
   "execution_count": 59,
   "metadata": {},
   "outputs": [
    {
     "name": "stdout",
     "output_type": "stream",
     "text": [
      "L[-1] is    <ufunc 'cos'>\n",
      "L[-2] is         [4, 'b']\n",
      "L[-3] is              abc\n",
      "L[-4] is              2.3\n",
      "L[-5] is                5\n"
     ]
    }
   ],
   "source": [
    "for index in [-1, -2, -3, -4, -5]:\n",
    "    print('L[%s] is %16s' % (index, L[index]))"
   ]
  },
  {
   "cell_type": "code",
   "execution_count": 61,
   "metadata": {},
   "outputs": [
    {
     "name": "stdout",
     "output_type": "stream",
     "text": [
      "5\n"
     ]
    }
   ],
   "source": [
    "print(L[index])"
   ]
  },
  {
   "cell_type": "code",
   "execution_count": 62,
   "metadata": {},
   "outputs": [],
   "source": [
    "x=[4,5,6]"
   ]
  },
  {
   "cell_type": "code",
   "execution_count": 63,
   "metadata": {},
   "outputs": [],
   "source": [
    "y=list(x)"
   ]
  },
  {
   "cell_type": "code",
   "execution_count": 64,
   "metadata": {},
   "outputs": [
    {
     "data": {
      "text/plain": [
       "[4, 5, 6]"
      ]
     },
     "execution_count": 64,
     "metadata": {},
     "output_type": "execute_result"
    }
   ],
   "source": [
    "y"
   ]
  },
  {
   "cell_type": "code",
   "execution_count": 65,
   "metadata": {},
   "outputs": [],
   "source": [
    "y.append(9)"
   ]
  },
  {
   "cell_type": "code",
   "execution_count": 66,
   "metadata": {},
   "outputs": [
    {
     "data": {
      "text/plain": [
       "[4, 5, 6, 9]"
      ]
     },
     "execution_count": 66,
     "metadata": {},
     "output_type": "execute_result"
    }
   ],
   "source": [
    "y"
   ]
  },
  {
   "cell_type": "code",
   "execution_count": 67,
   "metadata": {},
   "outputs": [
    {
     "data": {
      "text/plain": [
       "[4, 5, 6]"
      ]
     },
     "execution_count": 67,
     "metadata": {},
     "output_type": "execute_result"
    }
   ],
   "source": [
    "x"
   ]
  },
  {
   "cell_type": "code",
   "execution_count": null,
   "metadata": {},
   "outputs": [],
   "source": []
  },
  {
   "cell_type": "code",
   "execution_count": 71,
   "metadata": {},
   "outputs": [
    {
     "data": {
      "text/plain": [
       "4.4"
      ]
     },
     "execution_count": 71,
     "metadata": {},
     "output_type": "execute_result"
    }
   ],
   "source": [
    "x=3.4\n",
    "y=x\n",
    "y=y+1\n",
    "y"
   ]
  },
  {
   "cell_type": "code",
   "execution_count": 72,
   "metadata": {},
   "outputs": [
    {
     "data": {
      "text/plain": [
       "3.4"
      ]
     },
     "execution_count": 72,
     "metadata": {},
     "output_type": "execute_result"
    }
   ],
   "source": [
    "x"
   ]
  },
  {
   "cell_type": "code",
   "execution_count": 73,
   "metadata": {},
   "outputs": [
    {
     "data": {
      "text/plain": [
       "1967846620400"
      ]
     },
     "execution_count": 73,
     "metadata": {},
     "output_type": "execute_result"
    }
   ],
   "source": [
    "id(x)\n",
    "id(y)"
   ]
  },
  {
   "cell_type": "code",
   "execution_count": 74,
   "metadata": {},
   "outputs": [
    {
     "data": {
      "text/plain": [
       "1967846620448"
      ]
     },
     "execution_count": 74,
     "metadata": {},
     "output_type": "execute_result"
    }
   ],
   "source": [
    "id (x)"
   ]
  },
  {
   "cell_type": "code",
   "execution_count": 75,
   "metadata": {},
   "outputs": [
    {
     "data": {
      "text/plain": [
       "1967846620400"
      ]
     },
     "execution_count": 75,
     "metadata": {},
     "output_type": "execute_result"
    }
   ],
   "source": [
    "id(y)"
   ]
  },
  {
   "cell_type": "code",
   "execution_count": 76,
   "metadata": {},
   "outputs": [],
   "source": [
    "s=\"string\"\n",
    "s2=s"
   ]
  },
  {
   "cell_type": "code",
   "execution_count": 77,
   "metadata": {},
   "outputs": [
    {
     "data": {
      "text/plain": [
       "1967804842312"
      ]
     },
     "execution_count": 77,
     "metadata": {},
     "output_type": "execute_result"
    }
   ],
   "source": [
    "id(s2)"
   ]
  },
  {
   "cell_type": "code",
   "execution_count": 78,
   "metadata": {},
   "outputs": [
    {
     "data": {
      "text/plain": [
       "1967804842312"
      ]
     },
     "execution_count": 78,
     "metadata": {},
     "output_type": "execute_result"
    }
   ],
   "source": [
    "id(s)"
   ]
  },
  {
   "cell_type": "code",
   "execution_count": 79,
   "metadata": {},
   "outputs": [],
   "source": [
    "s=\"new strng\""
   ]
  },
  {
   "cell_type": "code",
   "execution_count": 80,
   "metadata": {},
   "outputs": [
    {
     "data": {
      "text/plain": [
       "1967865638960"
      ]
     },
     "execution_count": 80,
     "metadata": {},
     "output_type": "execute_result"
    }
   ],
   "source": [
    "id(s)"
   ]
  },
  {
   "cell_type": "code",
   "execution_count": 81,
   "metadata": {},
   "outputs": [],
   "source": [
    "t=(4,5,6)"
   ]
  },
  {
   "cell_type": "code",
   "execution_count": 82,
   "metadata": {},
   "outputs": [
    {
     "data": {
      "text/plain": [
       "4"
      ]
     },
     "execution_count": 82,
     "metadata": {},
     "output_type": "execute_result"
    }
   ],
   "source": [
    "t[0]"
   ]
  },
  {
   "cell_type": "code",
   "execution_count": 83,
   "metadata": {},
   "outputs": [
    {
     "ename": "TypeError",
     "evalue": "'tuple' object does not support item assignment",
     "output_type": "error",
     "traceback": [
      "\u001b[1;31m---------------------------------------------------------------------------\u001b[0m",
      "\u001b[1;31mTypeError\u001b[0m                                 Traceback (most recent call last)",
      "\u001b[1;32m<ipython-input-83-3885d13d9464>\u001b[0m in \u001b[0;36m<module>\u001b[1;34m()\u001b[0m\n\u001b[1;32m----> 1\u001b[1;33m \u001b[0mt\u001b[0m\u001b[1;33m[\u001b[0m\u001b[1;36m0\u001b[0m\u001b[1;33m]\u001b[0m\u001b[1;33m=\u001b[0m\u001b[1;36m9\u001b[0m\u001b[1;33m\u001b[0m\u001b[0m\n\u001b[0m",
      "\u001b[1;31mTypeError\u001b[0m: 'tuple' object does not support item assignment"
     ]
    }
   ],
   "source": [
    "t[0]=9"
   ]
  },
  {
   "cell_type": "code",
   "execution_count": 84,
   "metadata": {},
   "outputs": [],
   "source": [
    "L=[0,5,2,23,4]"
   ]
  },
  {
   "cell_type": "code",
   "execution_count": 85,
   "metadata": {},
   "outputs": [
    {
     "data": {
      "text/plain": [
       "[0, 5, 2, 23, 4]"
      ]
     },
     "execution_count": 85,
     "metadata": {},
     "output_type": "execute_result"
    }
   ],
   "source": [
    "L"
   ]
  },
  {
   "cell_type": "code",
   "execution_count": 86,
   "metadata": {},
   "outputs": [],
   "source": [
    "L[0]=44"
   ]
  },
  {
   "cell_type": "code",
   "execution_count": 87,
   "metadata": {},
   "outputs": [
    {
     "data": {
      "text/plain": [
       "[44, 5, 2, 23, 4]"
      ]
     },
     "execution_count": 87,
     "metadata": {},
     "output_type": "execute_result"
    }
   ],
   "source": [
    "L"
   ]
  },
  {
   "cell_type": "code",
   "execution_count": 89,
   "metadata": {},
   "outputs": [
    {
     "name": "stdout",
     "output_type": "stream",
     "text": [
      "i is now  3\n",
      "i is now  7\n",
      "i is now  b\n"
     ]
    }
   ],
   "source": [
    "for i in [3,7,'b']:\n",
    "    print(\"i is now \", i)"
   ]
  },
  {
   "cell_type": "code",
   "execution_count": 90,
   "metadata": {},
   "outputs": [
    {
     "data": {
      "text/plain": [
       "range(0, 7)"
      ]
     },
     "execution_count": 90,
     "metadata": {},
     "output_type": "execute_result"
    }
   ],
   "source": [
    "range(7)"
   ]
  },
  {
   "cell_type": "code",
   "execution_count": 91,
   "metadata": {},
   "outputs": [],
   "source": [
    "L=['a',8,12]"
   ]
  },
  {
   "cell_type": "code",
   "execution_count": 92,
   "metadata": {},
   "outputs": [
    {
     "name": "stdout",
     "output_type": "stream",
     "text": [
      "i =  0  L[i]=  a\n",
      "i =  1  L[i]=  8\n",
      "i =  2  L[i]=  12\n"
     ]
    }
   ],
   "source": [
    "for i in range(len(L)):\n",
    "    print(\"i = \",i,\" L[i]= \",L[i])"
   ]
  },
  {
   "cell_type": "code",
   "execution_count": 93,
   "metadata": {},
   "outputs": [
    {
     "data": {
      "text/plain": [
       "range(2, 20, 3)"
      ]
     },
     "execution_count": 93,
     "metadata": {},
     "output_type": "execute_result"
    }
   ],
   "source": [
    "range(2,20,3)"
   ]
  },
  {
   "cell_type": "code",
   "execution_count": 94,
   "metadata": {},
   "outputs": [
    {
     "data": {
      "text/plain": [
       "array([ 2.,  5.,  8., 11., 14., 17., 20.])"
      ]
     },
     "execution_count": 94,
     "metadata": {},
     "output_type": "execute_result"
    }
   ],
   "source": [
    "np.linspace(2,20,7)"
   ]
  },
  {
   "cell_type": "code",
   "execution_count": 95,
   "metadata": {},
   "outputs": [
    {
     "name": "stdout",
     "output_type": "stream",
     "text": [
      "C:\\Users\\yasha\n"
     ]
    }
   ],
   "source": [
    "import os\n",
    "print(os.getcwd())"
   ]
  },
  {
   "cell_type": "code",
   "execution_count": 98,
   "metadata": {
    "scrolled": true
   },
   "outputs": [
    {
     "name": "stdout",
     "output_type": "stream",
     "text": [
      "     x        f(x)\n",
      "   0.000     3.000\n",
      "   2.000    11.000\n",
      "   4.000    67.000\n"
     ]
    }
   ],
   "source": [
    "\"\"\"\n",
    "Sample script to print values of a function at a few points.\n",
    "\"\"\"\n",
    "import numpy as np\n",
    "\n",
    "def f(x):\n",
    "    \"\"\"\n",
    "    A quadratic function.\n",
    "    \"\"\"\n",
    "    y = x**3 + 3\n",
    "    return y\n",
    "\n",
    "print(\"     x        f(x)\")\n",
    "for x in np.linspace(0,4,3):\n",
    "    print(\"%8.3f  %8.3f\" % (x, f(x)))"
   ]
  },
  {
   "cell_type": "code",
   "execution_count": 99,
   "metadata": {},
   "outputs": [
    {
     "data": {
      "text/plain": [
       "<function __main__.f(x)>"
      ]
     },
     "execution_count": 99,
     "metadata": {},
     "output_type": "execute_result"
    }
   ],
   "source": [
    "f"
   ]
  },
  {
   "cell_type": "code",
   "execution_count": 100,
   "metadata": {},
   "outputs": [
    {
     "data": {
      "text/plain": [
       "<module 'numpy' from 'C:\\\\ProgramData\\\\Anaconda3\\\\lib\\\\site-packages\\\\numpy\\\\__init__.py'>"
      ]
     },
     "execution_count": 100,
     "metadata": {},
     "output_type": "execute_result"
    }
   ],
   "source": [
    "np"
   ]
  },
  {
   "cell_type": "code",
   "execution_count": 103,
   "metadata": {},
   "outputs": [],
   "source": [
    "import script2"
   ]
  },
  {
   "cell_type": "code",
   "execution_count": 104,
   "metadata": {},
   "outputs": [
    {
     "data": {
      "text/plain": [
       "'script2'"
      ]
     },
     "execution_count": 104,
     "metadata": {},
     "output_type": "execute_result"
    }
   ],
   "source": [
    "script2.__name__"
   ]
  },
  {
   "cell_type": "code",
   "execution_count": 105,
   "metadata": {},
   "outputs": [
    {
     "data": {
      "text/plain": [
       "17.0"
      ]
     },
     "execution_count": 105,
     "metadata": {},
     "output_type": "execute_result"
    }
   ],
   "source": [
    "script2.f(4)"
   ]
  },
  {
   "cell_type": "code",
   "execution_count": 106,
   "metadata": {},
   "outputs": [
    {
     "name": "stdout",
     "output_type": "stream",
     "text": [
      "     x        f(x)\n",
      "   0.000     1.000\n",
      "   2.000     5.000\n",
      "   4.000    17.000\n"
     ]
    }
   ],
   "source": [
    "script2.print_table()"
   ]
  },
  {
   "cell_type": "code",
   "execution_count": 118,
   "metadata": {},
   "outputs": [],
   "source": [
    "import script2"
   ]
  },
  {
   "cell_type": "code",
   "execution_count": 119,
   "metadata": {},
   "outputs": [
    {
     "name": "stdout",
     "output_type": "stream",
     "text": [
      "     x        f(x)\n",
      "   0.000     1.000\n",
      "   2.000     5.000\n",
      "   4.000    17.000\n"
     ]
    }
   ],
   "source": [
    "script2.print_table()"
   ]
  },
  {
   "cell_type": "code",
   "execution_count": 120,
   "metadata": {},
   "outputs": [
    {
     "data": {
      "text/plain": [
       "<module 'script2' from 'C:\\\\Users\\\\yasha\\\\script2.py'>"
      ]
     },
     "execution_count": 120,
     "metadata": {},
     "output_type": "execute_result"
    }
   ],
   "source": [
    "from importlib import reload\n",
    "reload(script2)"
   ]
  },
  {
   "cell_type": "raw",
   "metadata": {},
   "source": []
  },
  {
   "cell_type": "code",
   "execution_count": 121,
   "metadata": {},
   "outputs": [
    {
     "name": "stdout",
     "output_type": "stream",
     "text": [
      "     x        f(x)\n",
      "   0.000    10.000\n",
      "   2.000    14.000\n",
      "   4.000    26.000\n"
     ]
    }
   ],
   "source": [
    "script2.print_table()"
   ]
  },
  {
   "cell_type": "code",
   "execution_count": 122,
   "metadata": {},
   "outputs": [],
   "source": [
    "import os, sys"
   ]
  },
  {
   "cell_type": "code",
   "execution_count": 123,
   "metadata": {},
   "outputs": [
    {
     "data": {
      "text/plain": [
       "'C:\\\\Users\\\\yasha'"
      ]
     },
     "execution_count": 123,
     "metadata": {},
     "output_type": "execute_result"
    }
   ],
   "source": [
    "os.getcwd()"
   ]
  },
  {
   "cell_type": "code",
   "execution_count": 124,
   "metadata": {},
   "outputs": [
    {
     "data": {
      "text/plain": [
       "<function nt.getcwd()>"
      ]
     },
     "execution_count": 124,
     "metadata": {},
     "output_type": "execute_result"
    }
   ],
   "source": [
    "os.getcwd\n"
   ]
  },
  {
   "cell_type": "code",
   "execution_count": 125,
   "metadata": {},
   "outputs": [
    {
     "name": "stdout",
     "output_type": "stream",
     "text": [
      "['', 'C:\\\\ProgramData\\\\Anaconda3\\\\python36.zip', 'C:\\\\ProgramData\\\\Anaconda3\\\\DLLs', 'C:\\\\ProgramData\\\\Anaconda3\\\\lib', 'C:\\\\ProgramData\\\\Anaconda3', 'C:\\\\Users\\\\yasha\\\\AppData\\\\Roaming\\\\Python\\\\Python36\\\\site-packages', 'C:\\\\ProgramData\\\\Anaconda3\\\\lib\\\\site-packages', 'C:\\\\ProgramData\\\\Anaconda3\\\\lib\\\\site-packages\\\\win32', 'C:\\\\ProgramData\\\\Anaconda3\\\\lib\\\\site-packages\\\\win32\\\\lib', 'C:\\\\ProgramData\\\\Anaconda3\\\\lib\\\\site-packages\\\\Pythonwin', 'C:\\\\ProgramData\\\\Anaconda3\\\\lib\\\\site-packages\\\\IPython\\\\extensions', 'C:\\\\Users\\\\yasha\\\\.ipython']\n"
     ]
    }
   ],
   "source": [
    "print(sys.path)"
   ]
  },
  {
   "cell_type": "code",
   "execution_count": 126,
   "metadata": {},
   "outputs": [
    {
     "ename": "ModuleNotFoundError",
     "evalue": "No module named 'junkname'",
     "output_type": "error",
     "traceback": [
      "\u001b[1;31m---------------------------------------------------------------------------\u001b[0m",
      "\u001b[1;31mModuleNotFoundError\u001b[0m                       Traceback (most recent call last)",
      "\u001b[1;32m<ipython-input-126-477437cb618a>\u001b[0m in \u001b[0;36m<module>\u001b[1;34m()\u001b[0m\n\u001b[1;32m----> 1\u001b[1;33m \u001b[1;32mimport\u001b[0m \u001b[0mjunkname\u001b[0m\u001b[1;33m\u001b[0m\u001b[0m\n\u001b[0m",
      "\u001b[1;31mModuleNotFoundError\u001b[0m: No module named 'junkname'"
     ]
    }
   ],
   "source": [
    "import junkname"
   ]
  },
  {
   "cell_type": "code",
   "execution_count": 127,
   "metadata": {},
   "outputs": [],
   "source": [
    "x =45.6"
   ]
  },
  {
   "cell_type": "code",
   "execution_count": 128,
   "metadata": {},
   "outputs": [
    {
     "data": {
      "text/plain": [
       "45.6"
      ]
     },
     "execution_count": 128,
     "metadata": {},
     "output_type": "execute_result"
    }
   ],
   "source": [
    "x"
   ]
  },
  {
   "cell_type": "code",
   "execution_count": 129,
   "metadata": {},
   "outputs": [],
   "source": [
    "s= \"the value  of x is %s\" %x"
   ]
  },
  {
   "cell_type": "code",
   "execution_count": 130,
   "metadata": {},
   "outputs": [
    {
     "data": {
      "text/plain": [
       "'the value  of x is 45.6'"
      ]
     },
     "execution_count": 130,
     "metadata": {},
     "output_type": "execute_result"
    }
   ],
   "source": [
    "s"
   ]
  },
  {
   "cell_type": "code",
   "execution_count": 131,
   "metadata": {},
   "outputs": [],
   "source": [
    "s= \"the value  of x is %21.14e\" %x"
   ]
  },
  {
   "cell_type": "code",
   "execution_count": 132,
   "metadata": {},
   "outputs": [
    {
     "data": {
      "text/plain": [
       "'the value  of x is  4.56000000000000e+01'"
      ]
     },
     "execution_count": 132,
     "metadata": {},
     "output_type": "execute_result"
    }
   ],
   "source": [
    "s"
   ]
  },
  {
   "cell_type": "code",
   "execution_count": 133,
   "metadata": {},
   "outputs": [
    {
     "data": {
      "text/plain": [
       "-0.324"
      ]
     },
     "execution_count": 133,
     "metadata": {},
     "output_type": "execute_result"
    }
   ],
   "source": [
    "y =-.324\n",
    "y"
   ]
  },
  {
   "cell_type": "code",
   "execution_count": 134,
   "metadata": {},
   "outputs": [],
   "source": [
    "s=\"Now x is %8.3f and y is %8.3f\" %(x,y)"
   ]
  },
  {
   "cell_type": "code",
   "execution_count": 135,
   "metadata": {},
   "outputs": [
    {
     "data": {
      "text/plain": [
       "'Now x is   45.600 and y is   -0.324'"
      ]
     },
     "execution_count": 135,
     "metadata": {},
     "output_type": "execute_result"
    }
   ],
   "source": [
    "s"
   ]
  },
  {
   "cell_type": "code",
   "execution_count": 136,
   "metadata": {},
   "outputs": [],
   "source": [
    "import pandas as pd\n",
    "from pylab import *\n",
    "df= pd.DataFrame(rand(10,5), columns=[\"A\",\"B\",\"C\",\"D\",\"E\"])"
   ]
  },
  {
   "cell_type": "code",
   "execution_count": 137,
   "metadata": {},
   "outputs": [
    {
     "name": "stderr",
     "output_type": "stream",
     "text": [
      "C:\\ProgramData\\Anaconda3\\lib\\site-packages\\ipykernel_launcher.py:1: DeprecationWarning: \n",
      ".ix is deprecated. Please use\n",
      ".loc for label based indexing or\n",
      ".iloc for positional indexing\n",
      "\n",
      "See the documentation here:\n",
      "http://pandas.pydata.org/pandas-docs/stable/indexing.html#ix-indexer-is-deprecated\n",
      "  \"\"\"Entry point for launching an IPython kernel.\n"
     ]
    },
    {
     "data": {
      "text/html": [
       "<div>\n",
       "<style scoped>\n",
       "    .dataframe tbody tr th:only-of-type {\n",
       "        vertical-align: middle;\n",
       "    }\n",
       "\n",
       "    .dataframe tbody tr th {\n",
       "        vertical-align: top;\n",
       "    }\n",
       "\n",
       "    .dataframe thead th {\n",
       "        text-align: right;\n",
       "    }\n",
       "</style>\n",
       "<table border=\"1\" class=\"dataframe\">\n",
       "  <thead>\n",
       "    <tr style=\"text-align: right;\">\n",
       "      <th></th>\n",
       "      <th>A</th>\n",
       "      <th>D</th>\n",
       "      <th>E</th>\n",
       "    </tr>\n",
       "  </thead>\n",
       "  <tbody>\n",
       "    <tr>\n",
       "      <th>0</th>\n",
       "      <td>0.171991</td>\n",
       "      <td>0.371350</td>\n",
       "      <td>0.415514</td>\n",
       "    </tr>\n",
       "    <tr>\n",
       "      <th>1</th>\n",
       "      <td>0.989873</td>\n",
       "      <td>0.462922</td>\n",
       "      <td>0.656439</td>\n",
       "    </tr>\n",
       "    <tr>\n",
       "      <th>2</th>\n",
       "      <td>0.297890</td>\n",
       "      <td>0.630229</td>\n",
       "      <td>0.426770</td>\n",
       "    </tr>\n",
       "    <tr>\n",
       "      <th>3</th>\n",
       "      <td>0.836712</td>\n",
       "      <td>0.722807</td>\n",
       "      <td>0.365093</td>\n",
       "    </tr>\n",
       "    <tr>\n",
       "      <th>4</th>\n",
       "      <td>0.320153</td>\n",
       "      <td>0.641368</td>\n",
       "      <td>0.089778</td>\n",
       "    </tr>\n",
       "    <tr>\n",
       "      <th>5</th>\n",
       "      <td>0.994886</td>\n",
       "      <td>0.359281</td>\n",
       "      <td>0.777128</td>\n",
       "    </tr>\n",
       "    <tr>\n",
       "      <th>6</th>\n",
       "      <td>0.881209</td>\n",
       "      <td>0.396402</td>\n",
       "      <td>0.896776</td>\n",
       "    </tr>\n",
       "    <tr>\n",
       "      <th>7</th>\n",
       "      <td>0.329147</td>\n",
       "      <td>0.343049</td>\n",
       "      <td>0.744719</td>\n",
       "    </tr>\n",
       "    <tr>\n",
       "      <th>8</th>\n",
       "      <td>0.731536</td>\n",
       "      <td>0.248410</td>\n",
       "      <td>0.952481</td>\n",
       "    </tr>\n",
       "    <tr>\n",
       "      <th>9</th>\n",
       "      <td>0.632004</td>\n",
       "      <td>0.103668</td>\n",
       "      <td>0.065687</td>\n",
       "    </tr>\n",
       "  </tbody>\n",
       "</table>\n",
       "</div>"
      ],
      "text/plain": [
       "          A         D         E\n",
       "0  0.171991  0.371350  0.415514\n",
       "1  0.989873  0.462922  0.656439\n",
       "2  0.297890  0.630229  0.426770\n",
       "3  0.836712  0.722807  0.365093\n",
       "4  0.320153  0.641368  0.089778\n",
       "5  0.994886  0.359281  0.777128\n",
       "6  0.881209  0.396402  0.896776\n",
       "7  0.329147  0.343049  0.744719\n",
       "8  0.731536  0.248410  0.952481\n",
       "9  0.632004  0.103668  0.065687"
      ]
     },
     "execution_count": 137,
     "metadata": {},
     "output_type": "execute_result"
    }
   ],
   "source": [
    "df.ix[:,df.ix[0,:]<0.5]"
   ]
  },
  {
   "cell_type": "code",
   "execution_count": 138,
   "metadata": {},
   "outputs": [],
   "source": [
    "import pandas as pd\n",
    "import string"
   ]
  },
  {
   "cell_type": "code",
   "execution_count": 139,
   "metadata": {},
   "outputs": [
    {
     "name": "stdout",
     "output_type": "stream",
     "text": [
      "<map object at 0x000001CA2F829128>\n"
     ]
    }
   ],
   "source": [
    "spam_corpus=map(str.split, [ \"buy viagra\", \"buy antibody\" ])\n",
    "print(spam_corpus)"
   ]
  },
  {
   "cell_type": "code",
   "execution_count": 140,
   "metadata": {},
   "outputs": [
    {
     "name": "stdout",
     "output_type": "stream",
     "text": [
      "{'buy', 'antibody', 'viagra'}\n"
     ]
    }
   ],
   "source": [
    "unique_words = set([ word for doc in spam_corpus for word in doc ])\n",
    "print(unique_words)"
   ]
  },
  {
   "cell_type": "code",
   "execution_count": 141,
   "metadata": {},
   "outputs": [
    {
     "name": "stdout",
     "output_type": "stream",
     "text": [
      "[('buy', <map object at 0x000001CA2F8564E0>), ('antibody', <map object at 0x000001CA2F93B080>), ('viagra', <map object at 0x000001CA2F93B0B8>)]\n"
     ]
    }
   ],
   "source": [
    "word_counts = [ (word, map(lambda doc: doc.count(word), spam_corpus)) for word in unique_words ]\n",
    "print(word_counts)"
   ]
  },
  {
   "cell_type": "code",
   "execution_count": 143,
   "metadata": {},
   "outputs": [
    {
     "name": "stdout",
     "output_type": "stream",
     "text": [
      "[('buy', <map object at 0x000001CA2F9F79E8>), ('antibody', <map object at 0x000001CA2F9F7A20>), ('viagra', <map object at 0x000001CA2F9F7A58>)]\n"
     ]
    }
   ],
   "source": [
    "word_counts = [ (word, map(lambda doc: doc.count(word), spam_corpus)) for word in unique_words ]\n",
    "print(word_counts)"
   ]
  },
  {
   "cell_type": "code",
   "execution_count": 144,
   "metadata": {},
   "outputs": [
    {
     "ename": "TypeError",
     "evalue": "object of type 'map' has no len()",
     "output_type": "error",
     "traceback": [
      "\u001b[1;31m---------------------------------------------------------------------------\u001b[0m",
      "\u001b[1;31mTypeError\u001b[0m                                 Traceback (most recent call last)",
      "\u001b[1;32m<ipython-input-144-8ae316699c47>\u001b[0m in \u001b[0;36m<module>\u001b[1;34m()\u001b[0m\n\u001b[1;32m----> 1\u001b[1;33m \u001b[0mspam_bag_of_words\u001b[0m \u001b[1;33m=\u001b[0m \u001b[0mpd\u001b[0m\u001b[1;33m.\u001b[0m\u001b[0mDataFrame\u001b[0m\u001b[1;33m(\u001b[0m\u001b[0mdict\u001b[0m\u001b[1;33m(\u001b[0m\u001b[0mword_counts\u001b[0m\u001b[1;33m)\u001b[0m\u001b[1;33m)\u001b[0m\u001b[1;33m\u001b[0m\u001b[0m\n\u001b[0m\u001b[0;32m      2\u001b[0m \u001b[0mprint\u001b[0m\u001b[1;33m(\u001b[0m\u001b[0mspam_bag_of_words\u001b[0m\u001b[1;33m)\u001b[0m\u001b[1;33m\u001b[0m\u001b[0m\n",
      "\u001b[1;32mC:\\ProgramData\\Anaconda3\\lib\\site-packages\\pandas\\core\\frame.py\u001b[0m in \u001b[0;36m__init__\u001b[1;34m(self, data, index, columns, dtype, copy)\u001b[0m\n\u001b[0;32m    346\u001b[0m                                  dtype=dtype, copy=copy)\n\u001b[0;32m    347\u001b[0m         \u001b[1;32melif\u001b[0m \u001b[0misinstance\u001b[0m\u001b[1;33m(\u001b[0m\u001b[0mdata\u001b[0m\u001b[1;33m,\u001b[0m \u001b[0mdict\u001b[0m\u001b[1;33m)\u001b[0m\u001b[1;33m:\u001b[0m\u001b[1;33m\u001b[0m\u001b[0m\n\u001b[1;32m--> 348\u001b[1;33m             \u001b[0mmgr\u001b[0m \u001b[1;33m=\u001b[0m \u001b[0mself\u001b[0m\u001b[1;33m.\u001b[0m\u001b[0m_init_dict\u001b[0m\u001b[1;33m(\u001b[0m\u001b[0mdata\u001b[0m\u001b[1;33m,\u001b[0m \u001b[0mindex\u001b[0m\u001b[1;33m,\u001b[0m \u001b[0mcolumns\u001b[0m\u001b[1;33m,\u001b[0m \u001b[0mdtype\u001b[0m\u001b[1;33m=\u001b[0m\u001b[0mdtype\u001b[0m\u001b[1;33m)\u001b[0m\u001b[1;33m\u001b[0m\u001b[0m\n\u001b[0m\u001b[0;32m    349\u001b[0m         \u001b[1;32melif\u001b[0m \u001b[0misinstance\u001b[0m\u001b[1;33m(\u001b[0m\u001b[0mdata\u001b[0m\u001b[1;33m,\u001b[0m \u001b[0mma\u001b[0m\u001b[1;33m.\u001b[0m\u001b[0mMaskedArray\u001b[0m\u001b[1;33m)\u001b[0m\u001b[1;33m:\u001b[0m\u001b[1;33m\u001b[0m\u001b[0m\n\u001b[0;32m    350\u001b[0m             \u001b[1;32mimport\u001b[0m \u001b[0mnumpy\u001b[0m\u001b[1;33m.\u001b[0m\u001b[0mma\u001b[0m\u001b[1;33m.\u001b[0m\u001b[0mmrecords\u001b[0m \u001b[1;32mas\u001b[0m \u001b[0mmrecords\u001b[0m\u001b[1;33m\u001b[0m\u001b[0m\n",
      "\u001b[1;32mC:\\ProgramData\\Anaconda3\\lib\\site-packages\\pandas\\core\\frame.py\u001b[0m in \u001b[0;36m_init_dict\u001b[1;34m(self, data, index, columns, dtype)\u001b[0m\n\u001b[0;32m    457\u001b[0m             \u001b[0marrays\u001b[0m \u001b[1;33m=\u001b[0m \u001b[1;33m[\u001b[0m\u001b[0mdata\u001b[0m\u001b[1;33m[\u001b[0m\u001b[0mk\u001b[0m\u001b[1;33m]\u001b[0m \u001b[1;32mfor\u001b[0m \u001b[0mk\u001b[0m \u001b[1;32min\u001b[0m \u001b[0mkeys\u001b[0m\u001b[1;33m]\u001b[0m\u001b[1;33m\u001b[0m\u001b[0m\n\u001b[0;32m    458\u001b[0m \u001b[1;33m\u001b[0m\u001b[0m\n\u001b[1;32m--> 459\u001b[1;33m         \u001b[1;32mreturn\u001b[0m \u001b[0m_arrays_to_mgr\u001b[0m\u001b[1;33m(\u001b[0m\u001b[0marrays\u001b[0m\u001b[1;33m,\u001b[0m \u001b[0mdata_names\u001b[0m\u001b[1;33m,\u001b[0m \u001b[0mindex\u001b[0m\u001b[1;33m,\u001b[0m \u001b[0mcolumns\u001b[0m\u001b[1;33m,\u001b[0m \u001b[0mdtype\u001b[0m\u001b[1;33m=\u001b[0m\u001b[0mdtype\u001b[0m\u001b[1;33m)\u001b[0m\u001b[1;33m\u001b[0m\u001b[0m\n\u001b[0m\u001b[0;32m    460\u001b[0m \u001b[1;33m\u001b[0m\u001b[0m\n\u001b[0;32m    461\u001b[0m     \u001b[1;32mdef\u001b[0m \u001b[0m_init_ndarray\u001b[0m\u001b[1;33m(\u001b[0m\u001b[0mself\u001b[0m\u001b[1;33m,\u001b[0m \u001b[0mvalues\u001b[0m\u001b[1;33m,\u001b[0m \u001b[0mindex\u001b[0m\u001b[1;33m,\u001b[0m \u001b[0mcolumns\u001b[0m\u001b[1;33m,\u001b[0m \u001b[0mdtype\u001b[0m\u001b[1;33m=\u001b[0m\u001b[1;32mNone\u001b[0m\u001b[1;33m,\u001b[0m \u001b[0mcopy\u001b[0m\u001b[1;33m=\u001b[0m\u001b[1;32mFalse\u001b[0m\u001b[1;33m)\u001b[0m\u001b[1;33m:\u001b[0m\u001b[1;33m\u001b[0m\u001b[0m\n",
      "\u001b[1;32mC:\\ProgramData\\Anaconda3\\lib\\site-packages\\pandas\\core\\frame.py\u001b[0m in \u001b[0;36m_arrays_to_mgr\u001b[1;34m(arrays, arr_names, index, columns, dtype)\u001b[0m\n\u001b[0;32m   7313\u001b[0m     \u001b[1;31m# figure out the index, if necessary\u001b[0m\u001b[1;33m\u001b[0m\u001b[1;33m\u001b[0m\u001b[0m\n\u001b[0;32m   7314\u001b[0m     \u001b[1;32mif\u001b[0m \u001b[0mindex\u001b[0m \u001b[1;32mis\u001b[0m \u001b[1;32mNone\u001b[0m\u001b[1;33m:\u001b[0m\u001b[1;33m\u001b[0m\u001b[0m\n\u001b[1;32m-> 7315\u001b[1;33m         \u001b[0mindex\u001b[0m \u001b[1;33m=\u001b[0m \u001b[0mextract_index\u001b[0m\u001b[1;33m(\u001b[0m\u001b[0marrays\u001b[0m\u001b[1;33m)\u001b[0m\u001b[1;33m\u001b[0m\u001b[0m\n\u001b[0m\u001b[0;32m   7316\u001b[0m \u001b[1;33m\u001b[0m\u001b[0m\n\u001b[0;32m   7317\u001b[0m     \u001b[1;31m# don't force copy because getting jammed in an ndarray anyway\u001b[0m\u001b[1;33m\u001b[0m\u001b[1;33m\u001b[0m\u001b[0m\n",
      "\u001b[1;32mC:\\ProgramData\\Anaconda3\\lib\\site-packages\\pandas\\core\\frame.py\u001b[0m in \u001b[0;36mextract_index\u001b[1;34m(data)\u001b[0m\n\u001b[0;32m   7347\u001b[0m             \u001b[1;32melif\u001b[0m \u001b[0mis_list_like\u001b[0m\u001b[1;33m(\u001b[0m\u001b[0mv\u001b[0m\u001b[1;33m)\u001b[0m \u001b[1;32mand\u001b[0m \u001b[0mgetattr\u001b[0m\u001b[1;33m(\u001b[0m\u001b[0mv\u001b[0m\u001b[1;33m,\u001b[0m \u001b[1;34m'ndim'\u001b[0m\u001b[1;33m,\u001b[0m \u001b[1;36m1\u001b[0m\u001b[1;33m)\u001b[0m \u001b[1;33m==\u001b[0m \u001b[1;36m1\u001b[0m\u001b[1;33m:\u001b[0m\u001b[1;33m\u001b[0m\u001b[0m\n\u001b[0;32m   7348\u001b[0m                 \u001b[0mhave_raw_arrays\u001b[0m \u001b[1;33m=\u001b[0m \u001b[1;32mTrue\u001b[0m\u001b[1;33m\u001b[0m\u001b[0m\n\u001b[1;32m-> 7349\u001b[1;33m                 \u001b[0mraw_lengths\u001b[0m\u001b[1;33m.\u001b[0m\u001b[0mappend\u001b[0m\u001b[1;33m(\u001b[0m\u001b[0mlen\u001b[0m\u001b[1;33m(\u001b[0m\u001b[0mv\u001b[0m\u001b[1;33m)\u001b[0m\u001b[1;33m)\u001b[0m\u001b[1;33m\u001b[0m\u001b[0m\n\u001b[0m\u001b[0;32m   7350\u001b[0m \u001b[1;33m\u001b[0m\u001b[0m\n\u001b[0;32m   7351\u001b[0m         \u001b[1;32mif\u001b[0m \u001b[1;32mnot\u001b[0m \u001b[0mindexes\u001b[0m \u001b[1;32mand\u001b[0m \u001b[1;32mnot\u001b[0m \u001b[0mraw_lengths\u001b[0m\u001b[1;33m:\u001b[0m\u001b[1;33m\u001b[0m\u001b[0m\n",
      "\u001b[1;31mTypeError\u001b[0m: object of type 'map' has no len()"
     ]
    }
   ],
   "source": [
    "spam_bag_of_words = pd.DataFrame(dict(word_counts))\n",
    "print(spam_bag_of_words)"
   ]
  },
  {
   "cell_type": "code",
   "execution_count": 145,
   "metadata": {},
   "outputs": [
    {
     "data": {
      "text/html": [
       "<table class=\"simpletable\">\n",
       "<caption>OLS Regression Results</caption>\n",
       "<tr>\n",
       "  <th>Dep. Variable:</th>         <td>Lottery</td>     <th>  R-squared:         </th> <td>   0.348</td>\n",
       "</tr>\n",
       "<tr>\n",
       "  <th>Model:</th>                   <td>OLS</td>       <th>  Adj. R-squared:    </th> <td>   0.333</td>\n",
       "</tr>\n",
       "<tr>\n",
       "  <th>Method:</th>             <td>Least Squares</td>  <th>  F-statistic:       </th> <td>   22.20</td>\n",
       "</tr>\n",
       "<tr>\n",
       "  <th>Date:</th>             <td>Mon, 13 Apr 2020</td> <th>  Prob (F-statistic):</th> <td>1.90e-08</td>\n",
       "</tr>\n",
       "<tr>\n",
       "  <th>Time:</th>                 <td>18:12:55</td>     <th>  Log-Likelihood:    </th> <td> -379.82</td>\n",
       "</tr>\n",
       "<tr>\n",
       "  <th>No. Observations:</th>      <td>    86</td>      <th>  AIC:               </th> <td>   765.6</td>\n",
       "</tr>\n",
       "<tr>\n",
       "  <th>Df Residuals:</th>          <td>    83</td>      <th>  BIC:               </th> <td>   773.0</td>\n",
       "</tr>\n",
       "<tr>\n",
       "  <th>Df Model:</th>              <td>     2</td>      <th>                     </th>     <td> </td>   \n",
       "</tr>\n",
       "<tr>\n",
       "  <th>Covariance Type:</th>      <td>nonrobust</td>    <th>                     </th>     <td> </td>   \n",
       "</tr>\n",
       "</table>\n",
       "<table class=\"simpletable\">\n",
       "<tr>\n",
       "         <td></td>            <th>coef</th>     <th>std err</th>      <th>t</th>      <th>P>|t|</th>  <th>[0.025</th>    <th>0.975]</th>  \n",
       "</tr>\n",
       "<tr>\n",
       "  <th>Intercept</th>       <td>  246.4341</td> <td>   35.233</td> <td>    6.995</td> <td> 0.000</td> <td>  176.358</td> <td>  316.510</td>\n",
       "</tr>\n",
       "<tr>\n",
       "  <th>Literacy</th>        <td>   -0.4889</td> <td>    0.128</td> <td>   -3.832</td> <td> 0.000</td> <td>   -0.743</td> <td>   -0.235</td>\n",
       "</tr>\n",
       "<tr>\n",
       "  <th>np.log(Pop1831)</th> <td>  -31.3114</td> <td>    5.977</td> <td>   -5.239</td> <td> 0.000</td> <td>  -43.199</td> <td>  -19.424</td>\n",
       "</tr>\n",
       "</table>\n",
       "<table class=\"simpletable\">\n",
       "<tr>\n",
       "  <th>Omnibus:</th>       <td> 3.713</td> <th>  Durbin-Watson:     </th> <td>   2.019</td>\n",
       "</tr>\n",
       "<tr>\n",
       "  <th>Prob(Omnibus):</th> <td> 0.156</td> <th>  Jarque-Bera (JB):  </th> <td>   3.394</td>\n",
       "</tr>\n",
       "<tr>\n",
       "  <th>Skew:</th>          <td>-0.487</td> <th>  Prob(JB):          </th> <td>   0.183</td>\n",
       "</tr>\n",
       "<tr>\n",
       "  <th>Kurtosis:</th>      <td> 3.003</td> <th>  Cond. No.          </th> <td>    702.</td>\n",
       "</tr>\n",
       "</table><br/><br/>Warnings:<br/>[1] Standard Errors assume that the covariance matrix of the errors is correctly specified."
      ],
      "text/plain": [
       "<class 'statsmodels.iolib.summary.Summary'>\n",
       "\"\"\"\n",
       "                            OLS Regression Results                            \n",
       "==============================================================================\n",
       "Dep. Variable:                Lottery   R-squared:                       0.348\n",
       "Model:                            OLS   Adj. R-squared:                  0.333\n",
       "Method:                 Least Squares   F-statistic:                     22.20\n",
       "Date:                Mon, 13 Apr 2020   Prob (F-statistic):           1.90e-08\n",
       "Time:                        18:12:55   Log-Likelihood:                -379.82\n",
       "No. Observations:                  86   AIC:                             765.6\n",
       "Df Residuals:                      83   BIC:                             773.0\n",
       "Df Model:                           2                                         \n",
       "Covariance Type:            nonrobust                                         \n",
       "===================================================================================\n",
       "                      coef    std err          t      P>|t|      [0.025      0.975]\n",
       "-----------------------------------------------------------------------------------\n",
       "Intercept         246.4341     35.233      6.995      0.000     176.358     316.510\n",
       "Literacy           -0.4889      0.128     -3.832      0.000      -0.743      -0.235\n",
       "np.log(Pop1831)   -31.3114      5.977     -5.239      0.000     -43.199     -19.424\n",
       "==============================================================================\n",
       "Omnibus:                        3.713   Durbin-Watson:                   2.019\n",
       "Prob(Omnibus):                  0.156   Jarque-Bera (JB):                3.394\n",
       "Skew:                          -0.487   Prob(JB):                        0.183\n",
       "Kurtosis:                       3.003   Cond. No.                         702.\n",
       "==============================================================================\n",
       "\n",
       "Warnings:\n",
       "[1] Standard Errors assume that the covariance matrix of the errors is correctly specified.\n",
       "\"\"\""
      ]
     },
     "execution_count": 145,
     "metadata": {},
     "output_type": "execute_result"
    }
   ],
   "source": [
    "import numpy as np\n",
    "import pandas as pd\n",
    "import statsmodels.formula.api as smf\n",
    "url = \"http://vincentarelbundock.github.io/Rdatasets/csv/HistData/Guerry.csv\"\n",
    "dat = pd.read_csv(url)\n",
    "results = smf.ols(\"Lottery ~ Literacy + np.log(Pop1831)\", data=dat).fit()\n",
    "results.summary()"
   ]
  },
  {
   "cell_type": "code",
   "execution_count": 146,
   "metadata": {},
   "outputs": [
    {
     "data": {
      "text/html": [
       "<div>\n",
       "<style scoped>\n",
       "    .dataframe tbody tr th:only-of-type {\n",
       "        vertical-align: middle;\n",
       "    }\n",
       "\n",
       "    .dataframe tbody tr th {\n",
       "        vertical-align: top;\n",
       "    }\n",
       "\n",
       "    .dataframe thead th {\n",
       "        text-align: right;\n",
       "    }\n",
       "</style>\n",
       "<table border=\"1\" class=\"dataframe\">\n",
       "  <thead>\n",
       "    <tr style=\"text-align: right;\">\n",
       "      <th></th>\n",
       "      <th>Unnamed: 0</th>\n",
       "      <th>dept</th>\n",
       "      <th>Region</th>\n",
       "      <th>Department</th>\n",
       "      <th>Crime_pers</th>\n",
       "      <th>Crime_prop</th>\n",
       "      <th>Literacy</th>\n",
       "      <th>Donations</th>\n",
       "      <th>Infants</th>\n",
       "      <th>Suicides</th>\n",
       "      <th>...</th>\n",
       "      <th>Crime_parents</th>\n",
       "      <th>Infanticide</th>\n",
       "      <th>Donation_clergy</th>\n",
       "      <th>Lottery</th>\n",
       "      <th>Desertion</th>\n",
       "      <th>Instruction</th>\n",
       "      <th>Prostitutes</th>\n",
       "      <th>Distance</th>\n",
       "      <th>Area</th>\n",
       "      <th>Pop1831</th>\n",
       "    </tr>\n",
       "  </thead>\n",
       "  <tbody>\n",
       "    <tr>\n",
       "      <th>0</th>\n",
       "      <td>1</td>\n",
       "      <td>1</td>\n",
       "      <td>E</td>\n",
       "      <td>Ain</td>\n",
       "      <td>28870</td>\n",
       "      <td>15890</td>\n",
       "      <td>37</td>\n",
       "      <td>5098</td>\n",
       "      <td>33120</td>\n",
       "      <td>35039</td>\n",
       "      <td>...</td>\n",
       "      <td>71</td>\n",
       "      <td>60</td>\n",
       "      <td>69</td>\n",
       "      <td>41</td>\n",
       "      <td>55</td>\n",
       "      <td>46</td>\n",
       "      <td>13</td>\n",
       "      <td>218.372</td>\n",
       "      <td>5762</td>\n",
       "      <td>346.03</td>\n",
       "    </tr>\n",
       "    <tr>\n",
       "      <th>1</th>\n",
       "      <td>2</td>\n",
       "      <td>2</td>\n",
       "      <td>N</td>\n",
       "      <td>Aisne</td>\n",
       "      <td>26226</td>\n",
       "      <td>5521</td>\n",
       "      <td>51</td>\n",
       "      <td>8901</td>\n",
       "      <td>14572</td>\n",
       "      <td>12831</td>\n",
       "      <td>...</td>\n",
       "      <td>4</td>\n",
       "      <td>82</td>\n",
       "      <td>36</td>\n",
       "      <td>38</td>\n",
       "      <td>82</td>\n",
       "      <td>24</td>\n",
       "      <td>327</td>\n",
       "      <td>65.945</td>\n",
       "      <td>7369</td>\n",
       "      <td>513.00</td>\n",
       "    </tr>\n",
       "    <tr>\n",
       "      <th>2</th>\n",
       "      <td>3</td>\n",
       "      <td>3</td>\n",
       "      <td>C</td>\n",
       "      <td>Allier</td>\n",
       "      <td>26747</td>\n",
       "      <td>7925</td>\n",
       "      <td>13</td>\n",
       "      <td>10973</td>\n",
       "      <td>17044</td>\n",
       "      <td>114121</td>\n",
       "      <td>...</td>\n",
       "      <td>46</td>\n",
       "      <td>42</td>\n",
       "      <td>76</td>\n",
       "      <td>66</td>\n",
       "      <td>16</td>\n",
       "      <td>85</td>\n",
       "      <td>34</td>\n",
       "      <td>161.927</td>\n",
       "      <td>7340</td>\n",
       "      <td>298.26</td>\n",
       "    </tr>\n",
       "    <tr>\n",
       "      <th>3</th>\n",
       "      <td>4</td>\n",
       "      <td>4</td>\n",
       "      <td>E</td>\n",
       "      <td>Basses-Alpes</td>\n",
       "      <td>12935</td>\n",
       "      <td>7289</td>\n",
       "      <td>46</td>\n",
       "      <td>2733</td>\n",
       "      <td>23018</td>\n",
       "      <td>14238</td>\n",
       "      <td>...</td>\n",
       "      <td>70</td>\n",
       "      <td>12</td>\n",
       "      <td>37</td>\n",
       "      <td>80</td>\n",
       "      <td>32</td>\n",
       "      <td>29</td>\n",
       "      <td>2</td>\n",
       "      <td>351.399</td>\n",
       "      <td>6925</td>\n",
       "      <td>155.90</td>\n",
       "    </tr>\n",
       "    <tr>\n",
       "      <th>4</th>\n",
       "      <td>5</td>\n",
       "      <td>5</td>\n",
       "      <td>E</td>\n",
       "      <td>Hautes-Alpes</td>\n",
       "      <td>17488</td>\n",
       "      <td>8174</td>\n",
       "      <td>69</td>\n",
       "      <td>6962</td>\n",
       "      <td>23076</td>\n",
       "      <td>16171</td>\n",
       "      <td>...</td>\n",
       "      <td>22</td>\n",
       "      <td>23</td>\n",
       "      <td>64</td>\n",
       "      <td>79</td>\n",
       "      <td>35</td>\n",
       "      <td>7</td>\n",
       "      <td>1</td>\n",
       "      <td>320.280</td>\n",
       "      <td>5549</td>\n",
       "      <td>129.10</td>\n",
       "    </tr>\n",
       "    <tr>\n",
       "      <th>5</th>\n",
       "      <td>6</td>\n",
       "      <td>7</td>\n",
       "      <td>S</td>\n",
       "      <td>Ardeche</td>\n",
       "      <td>9474</td>\n",
       "      <td>10263</td>\n",
       "      <td>27</td>\n",
       "      <td>3188</td>\n",
       "      <td>42117</td>\n",
       "      <td>52547</td>\n",
       "      <td>...</td>\n",
       "      <td>76</td>\n",
       "      <td>47</td>\n",
       "      <td>67</td>\n",
       "      <td>70</td>\n",
       "      <td>19</td>\n",
       "      <td>62</td>\n",
       "      <td>1</td>\n",
       "      <td>279.413</td>\n",
       "      <td>5529</td>\n",
       "      <td>340.73</td>\n",
       "    </tr>\n",
       "    <tr>\n",
       "      <th>6</th>\n",
       "      <td>7</td>\n",
       "      <td>8</td>\n",
       "      <td>N</td>\n",
       "      <td>Ardennes</td>\n",
       "      <td>35203</td>\n",
       "      <td>8847</td>\n",
       "      <td>67</td>\n",
       "      <td>6400</td>\n",
       "      <td>16106</td>\n",
       "      <td>26198</td>\n",
       "      <td>...</td>\n",
       "      <td>53</td>\n",
       "      <td>85</td>\n",
       "      <td>49</td>\n",
       "      <td>31</td>\n",
       "      <td>62</td>\n",
       "      <td>9</td>\n",
       "      <td>83</td>\n",
       "      <td>105.694</td>\n",
       "      <td>5229</td>\n",
       "      <td>289.62</td>\n",
       "    </tr>\n",
       "    <tr>\n",
       "      <th>7</th>\n",
       "      <td>8</td>\n",
       "      <td>9</td>\n",
       "      <td>S</td>\n",
       "      <td>Ariege</td>\n",
       "      <td>6173</td>\n",
       "      <td>9597</td>\n",
       "      <td>18</td>\n",
       "      <td>3542</td>\n",
       "      <td>22916</td>\n",
       "      <td>123625</td>\n",
       "      <td>...</td>\n",
       "      <td>74</td>\n",
       "      <td>28</td>\n",
       "      <td>63</td>\n",
       "      <td>75</td>\n",
       "      <td>22</td>\n",
       "      <td>77</td>\n",
       "      <td>3</td>\n",
       "      <td>385.313</td>\n",
       "      <td>4890</td>\n",
       "      <td>253.12</td>\n",
       "    </tr>\n",
       "    <tr>\n",
       "      <th>8</th>\n",
       "      <td>9</td>\n",
       "      <td>10</td>\n",
       "      <td>E</td>\n",
       "      <td>Aube</td>\n",
       "      <td>19602</td>\n",
       "      <td>4086</td>\n",
       "      <td>59</td>\n",
       "      <td>3608</td>\n",
       "      <td>18642</td>\n",
       "      <td>10989</td>\n",
       "      <td>...</td>\n",
       "      <td>77</td>\n",
       "      <td>54</td>\n",
       "      <td>9</td>\n",
       "      <td>28</td>\n",
       "      <td>86</td>\n",
       "      <td>15</td>\n",
       "      <td>207</td>\n",
       "      <td>83.244</td>\n",
       "      <td>6004</td>\n",
       "      <td>246.36</td>\n",
       "    </tr>\n",
       "    <tr>\n",
       "      <th>9</th>\n",
       "      <td>10</td>\n",
       "      <td>11</td>\n",
       "      <td>S</td>\n",
       "      <td>Aude</td>\n",
       "      <td>15647</td>\n",
       "      <td>10431</td>\n",
       "      <td>34</td>\n",
       "      <td>2582</td>\n",
       "      <td>20225</td>\n",
       "      <td>66498</td>\n",
       "      <td>...</td>\n",
       "      <td>80</td>\n",
       "      <td>35</td>\n",
       "      <td>27</td>\n",
       "      <td>50</td>\n",
       "      <td>63</td>\n",
       "      <td>48</td>\n",
       "      <td>1</td>\n",
       "      <td>370.949</td>\n",
       "      <td>6139</td>\n",
       "      <td>270.13</td>\n",
       "    </tr>\n",
       "    <tr>\n",
       "      <th>10</th>\n",
       "      <td>11</td>\n",
       "      <td>12</td>\n",
       "      <td>S</td>\n",
       "      <td>Aveyron</td>\n",
       "      <td>8236</td>\n",
       "      <td>6731</td>\n",
       "      <td>31</td>\n",
       "      <td>3211</td>\n",
       "      <td>21981</td>\n",
       "      <td>116671</td>\n",
       "      <td>...</td>\n",
       "      <td>51</td>\n",
       "      <td>5</td>\n",
       "      <td>23</td>\n",
       "      <td>81</td>\n",
       "      <td>10</td>\n",
       "      <td>44</td>\n",
       "      <td>4</td>\n",
       "      <td>296.089</td>\n",
       "      <td>8735</td>\n",
       "      <td>359.06</td>\n",
       "    </tr>\n",
       "    <tr>\n",
       "      <th>11</th>\n",
       "      <td>12</td>\n",
       "      <td>13</td>\n",
       "      <td>S</td>\n",
       "      <td>Bouches-du-Rhone</td>\n",
       "      <td>13409</td>\n",
       "      <td>5291</td>\n",
       "      <td>38</td>\n",
       "      <td>2314</td>\n",
       "      <td>9325</td>\n",
       "      <td>8107</td>\n",
       "      <td>...</td>\n",
       "      <td>45</td>\n",
       "      <td>74</td>\n",
       "      <td>55</td>\n",
       "      <td>3</td>\n",
       "      <td>23</td>\n",
       "      <td>43</td>\n",
       "      <td>25</td>\n",
       "      <td>362.568</td>\n",
       "      <td>5087</td>\n",
       "      <td>359.47</td>\n",
       "    </tr>\n",
       "    <tr>\n",
       "      <th>12</th>\n",
       "      <td>13</td>\n",
       "      <td>14</td>\n",
       "      <td>N</td>\n",
       "      <td>Calvados</td>\n",
       "      <td>17577</td>\n",
       "      <td>4500</td>\n",
       "      <td>52</td>\n",
       "      <td>27830</td>\n",
       "      <td>8983</td>\n",
       "      <td>31807</td>\n",
       "      <td>...</td>\n",
       "      <td>57</td>\n",
       "      <td>56</td>\n",
       "      <td>11</td>\n",
       "      <td>13</td>\n",
       "      <td>12</td>\n",
       "      <td>22</td>\n",
       "      <td>194</td>\n",
       "      <td>117.487</td>\n",
       "      <td>5548</td>\n",
       "      <td>494.70</td>\n",
       "    </tr>\n",
       "    <tr>\n",
       "      <th>13</th>\n",
       "      <td>14</td>\n",
       "      <td>15</td>\n",
       "      <td>C</td>\n",
       "      <td>Cantal</td>\n",
       "      <td>18070</td>\n",
       "      <td>11645</td>\n",
       "      <td>31</td>\n",
       "      <td>4093</td>\n",
       "      <td>15335</td>\n",
       "      <td>87338</td>\n",
       "      <td>...</td>\n",
       "      <td>79</td>\n",
       "      <td>83</td>\n",
       "      <td>66</td>\n",
       "      <td>82</td>\n",
       "      <td>1</td>\n",
       "      <td>51</td>\n",
       "      <td>20</td>\n",
       "      <td>245.849</td>\n",
       "      <td>5726</td>\n",
       "      <td>258.59</td>\n",
       "    </tr>\n",
       "    <tr>\n",
       "      <th>14</th>\n",
       "      <td>15</td>\n",
       "      <td>16</td>\n",
       "      <td>W</td>\n",
       "      <td>Charente</td>\n",
       "      <td>24964</td>\n",
       "      <td>13018</td>\n",
       "      <td>36</td>\n",
       "      <td>13602</td>\n",
       "      <td>19454</td>\n",
       "      <td>25720</td>\n",
       "      <td>...</td>\n",
       "      <td>2</td>\n",
       "      <td>7</td>\n",
       "      <td>81</td>\n",
       "      <td>60</td>\n",
       "      <td>61</td>\n",
       "      <td>47</td>\n",
       "      <td>8</td>\n",
       "      <td>224.339</td>\n",
       "      <td>5956</td>\n",
       "      <td>362.53</td>\n",
       "    </tr>\n",
       "    <tr>\n",
       "      <th>15</th>\n",
       "      <td>16</td>\n",
       "      <td>17</td>\n",
       "      <td>W</td>\n",
       "      <td>Charente-Inferieure</td>\n",
       "      <td>18712</td>\n",
       "      <td>5357</td>\n",
       "      <td>39</td>\n",
       "      <td>13254</td>\n",
       "      <td>23999</td>\n",
       "      <td>16798</td>\n",
       "      <td>...</td>\n",
       "      <td>3</td>\n",
       "      <td>38</td>\n",
       "      <td>72</td>\n",
       "      <td>35</td>\n",
       "      <td>74</td>\n",
       "      <td>42</td>\n",
       "      <td>27</td>\n",
       "      <td>238.538</td>\n",
       "      <td>6864</td>\n",
       "      <td>445.25</td>\n",
       "    </tr>\n",
       "    <tr>\n",
       "      <th>16</th>\n",
       "      <td>17</td>\n",
       "      <td>18</td>\n",
       "      <td>C</td>\n",
       "      <td>Cher</td>\n",
       "      <td>21934</td>\n",
       "      <td>10503</td>\n",
       "      <td>13</td>\n",
       "      <td>9561</td>\n",
       "      <td>23574</td>\n",
       "      <td>19497</td>\n",
       "      <td>...</td>\n",
       "      <td>69</td>\n",
       "      <td>11</td>\n",
       "      <td>86</td>\n",
       "      <td>44</td>\n",
       "      <td>51</td>\n",
       "      <td>83</td>\n",
       "      <td>26</td>\n",
       "      <td>116.257</td>\n",
       "      <td>7235</td>\n",
       "      <td>256.06</td>\n",
       "    </tr>\n",
       "    <tr>\n",
       "      <th>17</th>\n",
       "      <td>18</td>\n",
       "      <td>19</td>\n",
       "      <td>C</td>\n",
       "      <td>Correze</td>\n",
       "      <td>15262</td>\n",
       "      <td>12949</td>\n",
       "      <td>12</td>\n",
       "      <td>14993</td>\n",
       "      <td>19330</td>\n",
       "      <td>47480</td>\n",
       "      <td>...</td>\n",
       "      <td>86</td>\n",
       "      <td>16</td>\n",
       "      <td>82</td>\n",
       "      <td>84</td>\n",
       "      <td>2</td>\n",
       "      <td>86</td>\n",
       "      <td>3</td>\n",
       "      <td>227.899</td>\n",
       "      <td>5857</td>\n",
       "      <td>294.83</td>\n",
       "    </tr>\n",
       "    <tr>\n",
       "      <th>18</th>\n",
       "      <td>19</td>\n",
       "      <td>21</td>\n",
       "      <td>E</td>\n",
       "      <td>Cote-d'Or</td>\n",
       "      <td>32256</td>\n",
       "      <td>9159</td>\n",
       "      <td>60</td>\n",
       "      <td>2540</td>\n",
       "      <td>15599</td>\n",
       "      <td>16128</td>\n",
       "      <td>...</td>\n",
       "      <td>49</td>\n",
       "      <td>27</td>\n",
       "      <td>18</td>\n",
       "      <td>33</td>\n",
       "      <td>78</td>\n",
       "      <td>13</td>\n",
       "      <td>206</td>\n",
       "      <td>136.109</td>\n",
       "      <td>8763</td>\n",
       "      <td>375.88</td>\n",
       "    </tr>\n",
       "    <tr>\n",
       "      <th>19</th>\n",
       "      <td>20</td>\n",
       "      <td>22</td>\n",
       "      <td>W</td>\n",
       "      <td>Cotes-du-Nord</td>\n",
       "      <td>28607</td>\n",
       "      <td>7050</td>\n",
       "      <td>16</td>\n",
       "      <td>10387</td>\n",
       "      <td>36098</td>\n",
       "      <td>75056</td>\n",
       "      <td>...</td>\n",
       "      <td>6</td>\n",
       "      <td>69</td>\n",
       "      <td>15</td>\n",
       "      <td>72</td>\n",
       "      <td>47</td>\n",
       "      <td>80</td>\n",
       "      <td>16</td>\n",
       "      <td>225.161</td>\n",
       "      <td>6878</td>\n",
       "      <td>598.87</td>\n",
       "    </tr>\n",
       "    <tr>\n",
       "      <th>20</th>\n",
       "      <td>21</td>\n",
       "      <td>23</td>\n",
       "      <td>C</td>\n",
       "      <td>Creuse</td>\n",
       "      <td>37014</td>\n",
       "      <td>20235</td>\n",
       "      <td>23</td>\n",
       "      <td>10997</td>\n",
       "      <td>14363</td>\n",
       "      <td>77823</td>\n",
       "      <td>...</td>\n",
       "      <td>75</td>\n",
       "      <td>24</td>\n",
       "      <td>75</td>\n",
       "      <td>85</td>\n",
       "      <td>4</td>\n",
       "      <td>71</td>\n",
       "      <td>12</td>\n",
       "      <td>180.846</td>\n",
       "      <td>5565</td>\n",
       "      <td>265.38</td>\n",
       "    </tr>\n",
       "    <tr>\n",
       "      <th>21</th>\n",
       "      <td>22</td>\n",
       "      <td>24</td>\n",
       "      <td>W</td>\n",
       "      <td>Dordogne</td>\n",
       "      <td>21585</td>\n",
       "      <td>10237</td>\n",
       "      <td>18</td>\n",
       "      <td>4687</td>\n",
       "      <td>21375</td>\n",
       "      <td>36024</td>\n",
       "      <td>...</td>\n",
       "      <td>64</td>\n",
       "      <td>18</td>\n",
       "      <td>79</td>\n",
       "      <td>77</td>\n",
       "      <td>44</td>\n",
       "      <td>78</td>\n",
       "      <td>3</td>\n",
       "      <td>253.776</td>\n",
       "      <td>9060</td>\n",
       "      <td>482.75</td>\n",
       "    </tr>\n",
       "    <tr>\n",
       "      <th>22</th>\n",
       "      <td>23</td>\n",
       "      <td>25</td>\n",
       "      <td>E</td>\n",
       "      <td>Doubs</td>\n",
       "      <td>11560</td>\n",
       "      <td>5914</td>\n",
       "      <td>73</td>\n",
       "      <td>3436</td>\n",
       "      <td>12512</td>\n",
       "      <td>40690</td>\n",
       "      <td>...</td>\n",
       "      <td>38</td>\n",
       "      <td>25</td>\n",
       "      <td>6</td>\n",
       "      <td>18</td>\n",
       "      <td>73</td>\n",
       "      <td>2</td>\n",
       "      <td>65</td>\n",
       "      <td>202.065</td>\n",
       "      <td>5234</td>\n",
       "      <td>265.54</td>\n",
       "    </tr>\n",
       "    <tr>\n",
       "      <th>23</th>\n",
       "      <td>24</td>\n",
       "      <td>26</td>\n",
       "      <td>E</td>\n",
       "      <td>Drome</td>\n",
       "      <td>13396</td>\n",
       "      <td>7759</td>\n",
       "      <td>42</td>\n",
       "      <td>2829</td>\n",
       "      <td>16348</td>\n",
       "      <td>23816</td>\n",
       "      <td>...</td>\n",
       "      <td>21</td>\n",
       "      <td>13</td>\n",
       "      <td>62</td>\n",
       "      <td>54</td>\n",
       "      <td>46</td>\n",
       "      <td>38</td>\n",
       "      <td>8</td>\n",
       "      <td>295.543</td>\n",
       "      <td>6530</td>\n",
       "      <td>299.56</td>\n",
       "    </tr>\n",
       "    <tr>\n",
       "      <th>24</th>\n",
       "      <td>25</td>\n",
       "      <td>27</td>\n",
       "      <td>N</td>\n",
       "      <td>Eure</td>\n",
       "      <td>14795</td>\n",
       "      <td>4774</td>\n",
       "      <td>51</td>\n",
       "      <td>11712</td>\n",
       "      <td>16039</td>\n",
       "      <td>13493</td>\n",
       "      <td>...</td>\n",
       "      <td>39</td>\n",
       "      <td>45</td>\n",
       "      <td>45</td>\n",
       "      <td>47</td>\n",
       "      <td>27</td>\n",
       "      <td>23</td>\n",
       "      <td>179</td>\n",
       "      <td>61.863</td>\n",
       "      <td>6040</td>\n",
       "      <td>424.25</td>\n",
       "    </tr>\n",
       "    <tr>\n",
       "      <th>25</th>\n",
       "      <td>26</td>\n",
       "      <td>28</td>\n",
       "      <td>C</td>\n",
       "      <td>Eure-et-Loir</td>\n",
       "      <td>21368</td>\n",
       "      <td>4016</td>\n",
       "      <td>54</td>\n",
       "      <td>4553</td>\n",
       "      <td>14475</td>\n",
       "      <td>15015</td>\n",
       "      <td>...</td>\n",
       "      <td>18</td>\n",
       "      <td>62</td>\n",
       "      <td>14</td>\n",
       "      <td>48</td>\n",
       "      <td>72</td>\n",
       "      <td>18</td>\n",
       "      <td>180</td>\n",
       "      <td>54.558</td>\n",
       "      <td>5880</td>\n",
       "      <td>278.82</td>\n",
       "    </tr>\n",
       "    <tr>\n",
       "      <th>26</th>\n",
       "      <td>27</td>\n",
       "      <td>29</td>\n",
       "      <td>W</td>\n",
       "      <td>Finistere</td>\n",
       "      <td>29872</td>\n",
       "      <td>6842</td>\n",
       "      <td>15</td>\n",
       "      <td>23945</td>\n",
       "      <td>28392</td>\n",
       "      <td>25143</td>\n",
       "      <td>...</td>\n",
       "      <td>24</td>\n",
       "      <td>78</td>\n",
       "      <td>25</td>\n",
       "      <td>36</td>\n",
       "      <td>77</td>\n",
       "      <td>81</td>\n",
       "      <td>42</td>\n",
       "      <td>276.210</td>\n",
       "      <td>6733</td>\n",
       "      <td>524.40</td>\n",
       "    </tr>\n",
       "    <tr>\n",
       "      <th>27</th>\n",
       "      <td>28</td>\n",
       "      <td>30</td>\n",
       "      <td>S</td>\n",
       "      <td>Gard</td>\n",
       "      <td>13115</td>\n",
       "      <td>7990</td>\n",
       "      <td>40</td>\n",
       "      <td>3048</td>\n",
       "      <td>28726</td>\n",
       "      <td>18292</td>\n",
       "      <td>...</td>\n",
       "      <td>15</td>\n",
       "      <td>39</td>\n",
       "      <td>59</td>\n",
       "      <td>20</td>\n",
       "      <td>40</td>\n",
       "      <td>40</td>\n",
       "      <td>5</td>\n",
       "      <td>323.004</td>\n",
       "      <td>5853</td>\n",
       "      <td>357.38</td>\n",
       "    </tr>\n",
       "    <tr>\n",
       "      <th>28</th>\n",
       "      <td>29</td>\n",
       "      <td>31</td>\n",
       "      <td>S</td>\n",
       "      <td>Haute-Garonne</td>\n",
       "      <td>18642</td>\n",
       "      <td>7204</td>\n",
       "      <td>31</td>\n",
       "      <td>2286</td>\n",
       "      <td>15378</td>\n",
       "      <td>56140</td>\n",
       "      <td>...</td>\n",
       "      <td>62</td>\n",
       "      <td>59</td>\n",
       "      <td>13</td>\n",
       "      <td>25</td>\n",
       "      <td>15</td>\n",
       "      <td>33</td>\n",
       "      <td>8</td>\n",
       "      <td>361.668</td>\n",
       "      <td>6257</td>\n",
       "      <td>427.86</td>\n",
       "    </tr>\n",
       "    <tr>\n",
       "      <th>29</th>\n",
       "      <td>30</td>\n",
       "      <td>32</td>\n",
       "      <td>S</td>\n",
       "      <td>Gers</td>\n",
       "      <td>18642</td>\n",
       "      <td>10486</td>\n",
       "      <td>38</td>\n",
       "      <td>2848</td>\n",
       "      <td>15250</td>\n",
       "      <td>61510</td>\n",
       "      <td>...</td>\n",
       "      <td>43</td>\n",
       "      <td>13</td>\n",
       "      <td>32</td>\n",
       "      <td>74</td>\n",
       "      <td>30</td>\n",
       "      <td>44</td>\n",
       "      <td>1</td>\n",
       "      <td>343.569</td>\n",
       "      <td>6309</td>\n",
       "      <td>312.16</td>\n",
       "    </tr>\n",
       "    <tr>\n",
       "      <th>...</th>\n",
       "      <td>...</td>\n",
       "      <td>...</td>\n",
       "      <td>...</td>\n",
       "      <td>...</td>\n",
       "      <td>...</td>\n",
       "      <td>...</td>\n",
       "      <td>...</td>\n",
       "      <td>...</td>\n",
       "      <td>...</td>\n",
       "      <td>...</td>\n",
       "      <td>...</td>\n",
       "      <td>...</td>\n",
       "      <td>...</td>\n",
       "      <td>...</td>\n",
       "      <td>...</td>\n",
       "      <td>...</td>\n",
       "      <td>...</td>\n",
       "      <td>...</td>\n",
       "      <td>...</td>\n",
       "      <td>...</td>\n",
       "      <td>...</td>\n",
       "    </tr>\n",
       "    <tr>\n",
       "      <th>56</th>\n",
       "      <td>57</td>\n",
       "      <td>59</td>\n",
       "      <td>N</td>\n",
       "      <td>Nord</td>\n",
       "      <td>26740</td>\n",
       "      <td>6175</td>\n",
       "      <td>45</td>\n",
       "      <td>6092</td>\n",
       "      <td>8926</td>\n",
       "      <td>13851</td>\n",
       "      <td>...</td>\n",
       "      <td>14</td>\n",
       "      <td>81</td>\n",
       "      <td>38</td>\n",
       "      <td>7</td>\n",
       "      <td>64</td>\n",
       "      <td>30</td>\n",
       "      <td>308</td>\n",
       "      <td>106.335</td>\n",
       "      <td>5743</td>\n",
       "      <td>989.94</td>\n",
       "    </tr>\n",
       "    <tr>\n",
       "      <th>57</th>\n",
       "      <td>58</td>\n",
       "      <td>60</td>\n",
       "      <td>N</td>\n",
       "      <td>Oise</td>\n",
       "      <td>28180</td>\n",
       "      <td>6659</td>\n",
       "      <td>54</td>\n",
       "      <td>5501</td>\n",
       "      <td>18021</td>\n",
       "      <td>5994</td>\n",
       "      <td>...</td>\n",
       "      <td>31</td>\n",
       "      <td>86</td>\n",
       "      <td>50</td>\n",
       "      <td>43</td>\n",
       "      <td>57</td>\n",
       "      <td>20</td>\n",
       "      <td>337</td>\n",
       "      <td>33.768</td>\n",
       "      <td>5860</td>\n",
       "      <td>397.73</td>\n",
       "    </tr>\n",
       "    <tr>\n",
       "      <th>58</th>\n",
       "      <td>59</td>\n",
       "      <td>61</td>\n",
       "      <td>N</td>\n",
       "      <td>Orne</td>\n",
       "      <td>28329</td>\n",
       "      <td>8248</td>\n",
       "      <td>45</td>\n",
       "      <td>9242</td>\n",
       "      <td>20852</td>\n",
       "      <td>34069</td>\n",
       "      <td>...</td>\n",
       "      <td>29</td>\n",
       "      <td>50</td>\n",
       "      <td>31</td>\n",
       "      <td>57</td>\n",
       "      <td>25</td>\n",
       "      <td>33</td>\n",
       "      <td>117</td>\n",
       "      <td>97.554</td>\n",
       "      <td>6103</td>\n",
       "      <td>441.88</td>\n",
       "    </tr>\n",
       "    <tr>\n",
       "      <th>59</th>\n",
       "      <td>60</td>\n",
       "      <td>62</td>\n",
       "      <td>N</td>\n",
       "      <td>Pas-de-Calais</td>\n",
       "      <td>23101</td>\n",
       "      <td>4040</td>\n",
       "      <td>49</td>\n",
       "      <td>5740</td>\n",
       "      <td>10575</td>\n",
       "      <td>15400</td>\n",
       "      <td>...</td>\n",
       "      <td>36</td>\n",
       "      <td>79</td>\n",
       "      <td>10</td>\n",
       "      <td>27</td>\n",
       "      <td>48</td>\n",
       "      <td>26</td>\n",
       "      <td>163</td>\n",
       "      <td>104.400</td>\n",
       "      <td>6671</td>\n",
       "      <td>655.22</td>\n",
       "    </tr>\n",
       "    <tr>\n",
       "      <th>60</th>\n",
       "      <td>61</td>\n",
       "      <td>63</td>\n",
       "      <td>C</td>\n",
       "      <td>Puy-de-Dome</td>\n",
       "      <td>17256</td>\n",
       "      <td>12141</td>\n",
       "      <td>19</td>\n",
       "      <td>5963</td>\n",
       "      <td>22948</td>\n",
       "      <td>78148</td>\n",
       "      <td>...</td>\n",
       "      <td>42</td>\n",
       "      <td>63</td>\n",
       "      <td>61</td>\n",
       "      <td>53</td>\n",
       "      <td>8</td>\n",
       "      <td>76</td>\n",
       "      <td>62</td>\n",
       "      <td>205.218</td>\n",
       "      <td>7970</td>\n",
       "      <td>573.11</td>\n",
       "    </tr>\n",
       "    <tr>\n",
       "      <th>61</th>\n",
       "      <td>62</td>\n",
       "      <td>64</td>\n",
       "      <td>W</td>\n",
       "      <td>Basses-Pyrenees</td>\n",
       "      <td>16722</td>\n",
       "      <td>8533</td>\n",
       "      <td>47</td>\n",
       "      <td>3299</td>\n",
       "      <td>12393</td>\n",
       "      <td>65995</td>\n",
       "      <td>...</td>\n",
       "      <td>34</td>\n",
       "      <td>72</td>\n",
       "      <td>60</td>\n",
       "      <td>34</td>\n",
       "      <td>7</td>\n",
       "      <td>28</td>\n",
       "      <td>12</td>\n",
       "      <td>387.935</td>\n",
       "      <td>7645</td>\n",
       "      <td>428.40</td>\n",
       "    </tr>\n",
       "    <tr>\n",
       "      <th>62</th>\n",
       "      <td>63</td>\n",
       "      <td>65</td>\n",
       "      <td>S</td>\n",
       "      <td>Hautes-Pyrenees</td>\n",
       "      <td>12223</td>\n",
       "      <td>9797</td>\n",
       "      <td>53</td>\n",
       "      <td>6001</td>\n",
       "      <td>12125</td>\n",
       "      <td>148039</td>\n",
       "      <td>...</td>\n",
       "      <td>85</td>\n",
       "      <td>75</td>\n",
       "      <td>71</td>\n",
       "      <td>76</td>\n",
       "      <td>20</td>\n",
       "      <td>21</td>\n",
       "      <td>5</td>\n",
       "      <td>386.559</td>\n",
       "      <td>4464</td>\n",
       "      <td>233.03</td>\n",
       "    </tr>\n",
       "    <tr>\n",
       "      <th>63</th>\n",
       "      <td>64</td>\n",
       "      <td>66</td>\n",
       "      <td>S</td>\n",
       "      <td>Pyrenees-Orientales</td>\n",
       "      <td>6728</td>\n",
       "      <td>7632</td>\n",
       "      <td>31</td>\n",
       "      <td>11644</td>\n",
       "      <td>15167</td>\n",
       "      <td>37843</td>\n",
       "      <td>...</td>\n",
       "      <td>67</td>\n",
       "      <td>84</td>\n",
       "      <td>77</td>\n",
       "      <td>11</td>\n",
       "      <td>18</td>\n",
       "      <td>52</td>\n",
       "      <td>5</td>\n",
       "      <td>403.445</td>\n",
       "      <td>4116</td>\n",
       "      <td>157.05</td>\n",
       "    </tr>\n",
       "    <tr>\n",
       "      <th>64</th>\n",
       "      <td>65</td>\n",
       "      <td>67</td>\n",
       "      <td>E</td>\n",
       "      <td>Bas-Rhin</td>\n",
       "      <td>12309</td>\n",
       "      <td>4920</td>\n",
       "      <td>62</td>\n",
       "      <td>14472</td>\n",
       "      <td>14356</td>\n",
       "      <td>18623</td>\n",
       "      <td>...</td>\n",
       "      <td>23</td>\n",
       "      <td>48</td>\n",
       "      <td>51</td>\n",
       "      <td>5</td>\n",
       "      <td>53</td>\n",
       "      <td>12</td>\n",
       "      <td>101</td>\n",
       "      <td>217.752</td>\n",
       "      <td>4755</td>\n",
       "      <td>540.21</td>\n",
       "    </tr>\n",
       "    <tr>\n",
       "      <th>65</th>\n",
       "      <td>66</td>\n",
       "      <td>68</td>\n",
       "      <td>E</td>\n",
       "      <td>Haut-Rhin</td>\n",
       "      <td>7343</td>\n",
       "      <td>4915</td>\n",
       "      <td>71</td>\n",
       "      <td>6001</td>\n",
       "      <td>14783</td>\n",
       "      <td>21233</td>\n",
       "      <td>...</td>\n",
       "      <td>40</td>\n",
       "      <td>53</td>\n",
       "      <td>17</td>\n",
       "      <td>10</td>\n",
       "      <td>56</td>\n",
       "      <td>5</td>\n",
       "      <td>26</td>\n",
       "      <td>217.971</td>\n",
       "      <td>3525</td>\n",
       "      <td>424.26</td>\n",
       "    </tr>\n",
       "    <tr>\n",
       "      <th>66</th>\n",
       "      <td>67</td>\n",
       "      <td>69</td>\n",
       "      <td>E</td>\n",
       "      <td>Rhone</td>\n",
       "      <td>18793</td>\n",
       "      <td>4504</td>\n",
       "      <td>45</td>\n",
       "      <td>1983</td>\n",
       "      <td>3910</td>\n",
       "      <td>17003</td>\n",
       "      <td>...</td>\n",
       "      <td>37</td>\n",
       "      <td>33</td>\n",
       "      <td>21</td>\n",
       "      <td>2</td>\n",
       "      <td>14</td>\n",
       "      <td>31</td>\n",
       "      <td>104</td>\n",
       "      <td>213.032</td>\n",
       "      <td>3249</td>\n",
       "      <td>434.43</td>\n",
       "    </tr>\n",
       "    <tr>\n",
       "      <th>67</th>\n",
       "      <td>68</td>\n",
       "      <td>70</td>\n",
       "      <td>E</td>\n",
       "      <td>Haute-Saone</td>\n",
       "      <td>22339</td>\n",
       "      <td>7770</td>\n",
       "      <td>59</td>\n",
       "      <td>11701</td>\n",
       "      <td>11850</td>\n",
       "      <td>39714</td>\n",
       "      <td>...</td>\n",
       "      <td>25</td>\n",
       "      <td>68</td>\n",
       "      <td>57</td>\n",
       "      <td>65</td>\n",
       "      <td>83</td>\n",
       "      <td>14</td>\n",
       "      <td>99</td>\n",
       "      <td>176.135</td>\n",
       "      <td>5360</td>\n",
       "      <td>338.91</td>\n",
       "    </tr>\n",
       "    <tr>\n",
       "      <th>68</th>\n",
       "      <td>69</td>\n",
       "      <td>71</td>\n",
       "      <td>E</td>\n",
       "      <td>Saone-et-Loire</td>\n",
       "      <td>28391</td>\n",
       "      <td>10708</td>\n",
       "      <td>32</td>\n",
       "      <td>3710</td>\n",
       "      <td>20442</td>\n",
       "      <td>22184</td>\n",
       "      <td>...</td>\n",
       "      <td>11</td>\n",
       "      <td>10</td>\n",
       "      <td>58</td>\n",
       "      <td>45</td>\n",
       "      <td>31</td>\n",
       "      <td>49</td>\n",
       "      <td>40</td>\n",
       "      <td>168.713</td>\n",
       "      <td>8575</td>\n",
       "      <td>523.97</td>\n",
       "    </tr>\n",
       "    <tr>\n",
       "      <th>69</th>\n",
       "      <td>70</td>\n",
       "      <td>72</td>\n",
       "      <td>C</td>\n",
       "      <td>Sarthe</td>\n",
       "      <td>33913</td>\n",
       "      <td>8294</td>\n",
       "      <td>30</td>\n",
       "      <td>3357</td>\n",
       "      <td>10779</td>\n",
       "      <td>29280</td>\n",
       "      <td>...</td>\n",
       "      <td>41</td>\n",
       "      <td>57</td>\n",
       "      <td>19</td>\n",
       "      <td>49</td>\n",
       "      <td>75</td>\n",
       "      <td>35</td>\n",
       "      <td>79</td>\n",
       "      <td>108.294</td>\n",
       "      <td>6206</td>\n",
       "      <td>457.37</td>\n",
       "    </tr>\n",
       "    <tr>\n",
       "      <th>70</th>\n",
       "      <td>71</td>\n",
       "      <td>75</td>\n",
       "      <td>N</td>\n",
       "      <td>Seine</td>\n",
       "      <td>13945</td>\n",
       "      <td>1368</td>\n",
       "      <td>71</td>\n",
       "      <td>4204</td>\n",
       "      <td>2660</td>\n",
       "      <td>3632</td>\n",
       "      <td>...</td>\n",
       "      <td>60</td>\n",
       "      <td>67</td>\n",
       "      <td>53</td>\n",
       "      <td>1</td>\n",
       "      <td>33</td>\n",
       "      <td>6</td>\n",
       "      <td>4744</td>\n",
       "      <td>0.000</td>\n",
       "      <td>762</td>\n",
       "      <td>935.11</td>\n",
       "    </tr>\n",
       "    <tr>\n",
       "      <th>71</th>\n",
       "      <td>72</td>\n",
       "      <td>76</td>\n",
       "      <td>N</td>\n",
       "      <td>Seine-Inferieure</td>\n",
       "      <td>18355</td>\n",
       "      <td>2906</td>\n",
       "      <td>43</td>\n",
       "      <td>7245</td>\n",
       "      <td>7506</td>\n",
       "      <td>9523</td>\n",
       "      <td>...</td>\n",
       "      <td>28</td>\n",
       "      <td>61</td>\n",
       "      <td>74</td>\n",
       "      <td>9</td>\n",
       "      <td>36</td>\n",
       "      <td>35</td>\n",
       "      <td>546</td>\n",
       "      <td>75.658</td>\n",
       "      <td>6278</td>\n",
       "      <td>693.68</td>\n",
       "    </tr>\n",
       "    <tr>\n",
       "      <th>72</th>\n",
       "      <td>73</td>\n",
       "      <td>77</td>\n",
       "      <td>N</td>\n",
       "      <td>Seine-et-Marne</td>\n",
       "      <td>22201</td>\n",
       "      <td>5786</td>\n",
       "      <td>54</td>\n",
       "      <td>5303</td>\n",
       "      <td>16324</td>\n",
       "      <td>7315</td>\n",
       "      <td>...</td>\n",
       "      <td>16</td>\n",
       "      <td>73</td>\n",
       "      <td>26</td>\n",
       "      <td>29</td>\n",
       "      <td>67</td>\n",
       "      <td>37</td>\n",
       "      <td>453</td>\n",
       "      <td>27.647</td>\n",
       "      <td>5915</td>\n",
       "      <td>323.89</td>\n",
       "    </tr>\n",
       "    <tr>\n",
       "      <th>73</th>\n",
       "      <td>74</td>\n",
       "      <td>78</td>\n",
       "      <td>N</td>\n",
       "      <td>Seine-et-Oise</td>\n",
       "      <td>12477</td>\n",
       "      <td>3879</td>\n",
       "      <td>56</td>\n",
       "      <td>4007</td>\n",
       "      <td>16303</td>\n",
       "      <td>3460</td>\n",
       "      <td>...</td>\n",
       "      <td>10</td>\n",
       "      <td>30</td>\n",
       "      <td>24</td>\n",
       "      <td>6</td>\n",
       "      <td>42</td>\n",
       "      <td>17</td>\n",
       "      <td>874</td>\n",
       "      <td>16.888</td>\n",
       "      <td>5334</td>\n",
       "      <td>448.18</td>\n",
       "    </tr>\n",
       "    <tr>\n",
       "      <th>74</th>\n",
       "      <td>75</td>\n",
       "      <td>79</td>\n",
       "      <td>W</td>\n",
       "      <td>Deux-Sevres</td>\n",
       "      <td>18400</td>\n",
       "      <td>6863</td>\n",
       "      <td>41</td>\n",
       "      <td>16956</td>\n",
       "      <td>25461</td>\n",
       "      <td>24533</td>\n",
       "      <td>...</td>\n",
       "      <td>30</td>\n",
       "      <td>4</td>\n",
       "      <td>85</td>\n",
       "      <td>71</td>\n",
       "      <td>84</td>\n",
       "      <td>39</td>\n",
       "      <td>6</td>\n",
       "      <td>188.474</td>\n",
       "      <td>5999</td>\n",
       "      <td>297.85</td>\n",
       "    </tr>\n",
       "    <tr>\n",
       "      <th>75</th>\n",
       "      <td>76</td>\n",
       "      <td>80</td>\n",
       "      <td>N</td>\n",
       "      <td>Somme</td>\n",
       "      <td>33592</td>\n",
       "      <td>7144</td>\n",
       "      <td>44</td>\n",
       "      <td>4964</td>\n",
       "      <td>12447</td>\n",
       "      <td>12836</td>\n",
       "      <td>...</td>\n",
       "      <td>7</td>\n",
       "      <td>64</td>\n",
       "      <td>33</td>\n",
       "      <td>30</td>\n",
       "      <td>80</td>\n",
       "      <td>34</td>\n",
       "      <td>302</td>\n",
       "      <td>69.520</td>\n",
       "      <td>6170</td>\n",
       "      <td>543.70</td>\n",
       "    </tr>\n",
       "    <tr>\n",
       "      <th>76</th>\n",
       "      <td>77</td>\n",
       "      <td>81</td>\n",
       "      <td>S</td>\n",
       "      <td>Tarn</td>\n",
       "      <td>13019</td>\n",
       "      <td>6241</td>\n",
       "      <td>20</td>\n",
       "      <td>3449</td>\n",
       "      <td>29305</td>\n",
       "      <td>68980</td>\n",
       "      <td>...</td>\n",
       "      <td>13</td>\n",
       "      <td>9</td>\n",
       "      <td>47</td>\n",
       "      <td>67</td>\n",
       "      <td>17</td>\n",
       "      <td>73</td>\n",
       "      <td>3</td>\n",
       "      <td>328.146</td>\n",
       "      <td>5758</td>\n",
       "      <td>333.84</td>\n",
       "    </tr>\n",
       "    <tr>\n",
       "      <th>77</th>\n",
       "      <td>78</td>\n",
       "      <td>82</td>\n",
       "      <td>S</td>\n",
       "      <td>Tarn-et-Garonne</td>\n",
       "      <td>14790</td>\n",
       "      <td>8680</td>\n",
       "      <td>25</td>\n",
       "      <td>4558</td>\n",
       "      <td>23771</td>\n",
       "      <td>48317</td>\n",
       "      <td>...</td>\n",
       "      <td>66</td>\n",
       "      <td>41</td>\n",
       "      <td>52</td>\n",
       "      <td>64</td>\n",
       "      <td>39</td>\n",
       "      <td>64</td>\n",
       "      <td>4</td>\n",
       "      <td>313.090</td>\n",
       "      <td>3718</td>\n",
       "      <td>242.51</td>\n",
       "    </tr>\n",
       "    <tr>\n",
       "      <th>78</th>\n",
       "      <td>79</td>\n",
       "      <td>83</td>\n",
       "      <td>S</td>\n",
       "      <td>Var</td>\n",
       "      <td>13145</td>\n",
       "      <td>9572</td>\n",
       "      <td>23</td>\n",
       "      <td>2449</td>\n",
       "      <td>14800</td>\n",
       "      <td>13380</td>\n",
       "      <td>...</td>\n",
       "      <td>55</td>\n",
       "      <td>49</td>\n",
       "      <td>40</td>\n",
       "      <td>26</td>\n",
       "      <td>52</td>\n",
       "      <td>69</td>\n",
       "      <td>6</td>\n",
       "      <td>389.512</td>\n",
       "      <td>5973</td>\n",
       "      <td>317.50</td>\n",
       "    </tr>\n",
       "    <tr>\n",
       "      <th>79</th>\n",
       "      <td>80</td>\n",
       "      <td>84</td>\n",
       "      <td>S</td>\n",
       "      <td>Vaucluse</td>\n",
       "      <td>13576</td>\n",
       "      <td>5731</td>\n",
       "      <td>37</td>\n",
       "      <td>1246</td>\n",
       "      <td>17239</td>\n",
       "      <td>19024</td>\n",
       "      <td>...</td>\n",
       "      <td>61</td>\n",
       "      <td>76</td>\n",
       "      <td>54</td>\n",
       "      <td>8</td>\n",
       "      <td>41</td>\n",
       "      <td>45</td>\n",
       "      <td>2</td>\n",
       "      <td>337.215</td>\n",
       "      <td>3567</td>\n",
       "      <td>239.11</td>\n",
       "    </tr>\n",
       "    <tr>\n",
       "      <th>80</th>\n",
       "      <td>81</td>\n",
       "      <td>85</td>\n",
       "      <td>W</td>\n",
       "      <td>Vendee</td>\n",
       "      <td>20827</td>\n",
       "      <td>7566</td>\n",
       "      <td>28</td>\n",
       "      <td>14035</td>\n",
       "      <td>62486</td>\n",
       "      <td>67963</td>\n",
       "      <td>...</td>\n",
       "      <td>50</td>\n",
       "      <td>44</td>\n",
       "      <td>30</td>\n",
       "      <td>68</td>\n",
       "      <td>79</td>\n",
       "      <td>59</td>\n",
       "      <td>4</td>\n",
       "      <td>212.459</td>\n",
       "      <td>6720</td>\n",
       "      <td>330.36</td>\n",
       "    </tr>\n",
       "    <tr>\n",
       "      <th>81</th>\n",
       "      <td>82</td>\n",
       "      <td>86</td>\n",
       "      <td>W</td>\n",
       "      <td>Vienne</td>\n",
       "      <td>15010</td>\n",
       "      <td>4710</td>\n",
       "      <td>25</td>\n",
       "      <td>8922</td>\n",
       "      <td>35224</td>\n",
       "      <td>21851</td>\n",
       "      <td>...</td>\n",
       "      <td>20</td>\n",
       "      <td>1</td>\n",
       "      <td>44</td>\n",
       "      <td>40</td>\n",
       "      <td>38</td>\n",
       "      <td>65</td>\n",
       "      <td>18</td>\n",
       "      <td>170.523</td>\n",
       "      <td>6990</td>\n",
       "      <td>282.73</td>\n",
       "    </tr>\n",
       "    <tr>\n",
       "      <th>82</th>\n",
       "      <td>83</td>\n",
       "      <td>87</td>\n",
       "      <td>C</td>\n",
       "      <td>Haute-Vienne</td>\n",
       "      <td>16256</td>\n",
       "      <td>6402</td>\n",
       "      <td>13</td>\n",
       "      <td>13817</td>\n",
       "      <td>19940</td>\n",
       "      <td>33497</td>\n",
       "      <td>...</td>\n",
       "      <td>68</td>\n",
       "      <td>6</td>\n",
       "      <td>78</td>\n",
       "      <td>55</td>\n",
       "      <td>11</td>\n",
       "      <td>84</td>\n",
       "      <td>7</td>\n",
       "      <td>198.874</td>\n",
       "      <td>5520</td>\n",
       "      <td>285.13</td>\n",
       "    </tr>\n",
       "    <tr>\n",
       "      <th>83</th>\n",
       "      <td>84</td>\n",
       "      <td>88</td>\n",
       "      <td>E</td>\n",
       "      <td>Vosges</td>\n",
       "      <td>18835</td>\n",
       "      <td>9044</td>\n",
       "      <td>62</td>\n",
       "      <td>4040</td>\n",
       "      <td>14978</td>\n",
       "      <td>33029</td>\n",
       "      <td>...</td>\n",
       "      <td>58</td>\n",
       "      <td>34</td>\n",
       "      <td>5</td>\n",
       "      <td>14</td>\n",
       "      <td>85</td>\n",
       "      <td>11</td>\n",
       "      <td>43</td>\n",
       "      <td>174.477</td>\n",
       "      <td>5874</td>\n",
       "      <td>397.99</td>\n",
       "    </tr>\n",
       "    <tr>\n",
       "      <th>84</th>\n",
       "      <td>85</td>\n",
       "      <td>89</td>\n",
       "      <td>C</td>\n",
       "      <td>Yonne</td>\n",
       "      <td>18006</td>\n",
       "      <td>6516</td>\n",
       "      <td>47</td>\n",
       "      <td>4276</td>\n",
       "      <td>16616</td>\n",
       "      <td>12789</td>\n",
       "      <td>...</td>\n",
       "      <td>32</td>\n",
       "      <td>22</td>\n",
       "      <td>35</td>\n",
       "      <td>51</td>\n",
       "      <td>66</td>\n",
       "      <td>27</td>\n",
       "      <td>272</td>\n",
       "      <td>81.797</td>\n",
       "      <td>7427</td>\n",
       "      <td>352.49</td>\n",
       "    </tr>\n",
       "    <tr>\n",
       "      <th>85</th>\n",
       "      <td>86</td>\n",
       "      <td>200</td>\n",
       "      <td>NaN</td>\n",
       "      <td>Corse</td>\n",
       "      <td>2199</td>\n",
       "      <td>4589</td>\n",
       "      <td>49</td>\n",
       "      <td>37015</td>\n",
       "      <td>24743</td>\n",
       "      <td>37016</td>\n",
       "      <td>...</td>\n",
       "      <td>81</td>\n",
       "      <td>2</td>\n",
       "      <td>84</td>\n",
       "      <td>83</td>\n",
       "      <td>9</td>\n",
       "      <td>25</td>\n",
       "      <td>1</td>\n",
       "      <td>539.213</td>\n",
       "      <td>8680</td>\n",
       "      <td>195.41</td>\n",
       "    </tr>\n",
       "  </tbody>\n",
       "</table>\n",
       "<p>86 rows × 24 columns</p>\n",
       "</div>"
      ],
      "text/plain": [
       "    Unnamed: 0  dept Region           Department  Crime_pers  Crime_prop  \\\n",
       "0            1     1      E                  Ain       28870       15890   \n",
       "1            2     2      N                Aisne       26226        5521   \n",
       "2            3     3      C               Allier       26747        7925   \n",
       "3            4     4      E         Basses-Alpes       12935        7289   \n",
       "4            5     5      E         Hautes-Alpes       17488        8174   \n",
       "5            6     7      S              Ardeche        9474       10263   \n",
       "6            7     8      N             Ardennes       35203        8847   \n",
       "7            8     9      S               Ariege        6173        9597   \n",
       "8            9    10      E                 Aube       19602        4086   \n",
       "9           10    11      S                 Aude       15647       10431   \n",
       "10          11    12      S              Aveyron        8236        6731   \n",
       "11          12    13      S     Bouches-du-Rhone       13409        5291   \n",
       "12          13    14      N             Calvados       17577        4500   \n",
       "13          14    15      C               Cantal       18070       11645   \n",
       "14          15    16      W             Charente       24964       13018   \n",
       "15          16    17      W  Charente-Inferieure       18712        5357   \n",
       "16          17    18      C                 Cher       21934       10503   \n",
       "17          18    19      C              Correze       15262       12949   \n",
       "18          19    21      E            Cote-d'Or       32256        9159   \n",
       "19          20    22      W        Cotes-du-Nord       28607        7050   \n",
       "20          21    23      C               Creuse       37014       20235   \n",
       "21          22    24      W             Dordogne       21585       10237   \n",
       "22          23    25      E                Doubs       11560        5914   \n",
       "23          24    26      E                Drome       13396        7759   \n",
       "24          25    27      N                 Eure       14795        4774   \n",
       "25          26    28      C         Eure-et-Loir       21368        4016   \n",
       "26          27    29      W            Finistere       29872        6842   \n",
       "27          28    30      S                 Gard       13115        7990   \n",
       "28          29    31      S        Haute-Garonne       18642        7204   \n",
       "29          30    32      S                 Gers       18642       10486   \n",
       "..         ...   ...    ...                  ...         ...         ...   \n",
       "56          57    59      N                 Nord       26740        6175   \n",
       "57          58    60      N                 Oise       28180        6659   \n",
       "58          59    61      N                 Orne       28329        8248   \n",
       "59          60    62      N        Pas-de-Calais       23101        4040   \n",
       "60          61    63      C          Puy-de-Dome       17256       12141   \n",
       "61          62    64      W      Basses-Pyrenees       16722        8533   \n",
       "62          63    65      S      Hautes-Pyrenees       12223        9797   \n",
       "63          64    66      S  Pyrenees-Orientales        6728        7632   \n",
       "64          65    67      E             Bas-Rhin       12309        4920   \n",
       "65          66    68      E            Haut-Rhin        7343        4915   \n",
       "66          67    69      E                Rhone       18793        4504   \n",
       "67          68    70      E          Haute-Saone       22339        7770   \n",
       "68          69    71      E       Saone-et-Loire       28391       10708   \n",
       "69          70    72      C               Sarthe       33913        8294   \n",
       "70          71    75      N                Seine       13945        1368   \n",
       "71          72    76      N     Seine-Inferieure       18355        2906   \n",
       "72          73    77      N       Seine-et-Marne       22201        5786   \n",
       "73          74    78      N        Seine-et-Oise       12477        3879   \n",
       "74          75    79      W          Deux-Sevres       18400        6863   \n",
       "75          76    80      N                Somme       33592        7144   \n",
       "76          77    81      S                 Tarn       13019        6241   \n",
       "77          78    82      S      Tarn-et-Garonne       14790        8680   \n",
       "78          79    83      S                  Var       13145        9572   \n",
       "79          80    84      S             Vaucluse       13576        5731   \n",
       "80          81    85      W               Vendee       20827        7566   \n",
       "81          82    86      W               Vienne       15010        4710   \n",
       "82          83    87      C         Haute-Vienne       16256        6402   \n",
       "83          84    88      E               Vosges       18835        9044   \n",
       "84          85    89      C                Yonne       18006        6516   \n",
       "85          86   200    NaN                Corse        2199        4589   \n",
       "\n",
       "    Literacy  Donations  Infants  Suicides   ...    Crime_parents  \\\n",
       "0         37       5098    33120     35039   ...               71   \n",
       "1         51       8901    14572     12831   ...                4   \n",
       "2         13      10973    17044    114121   ...               46   \n",
       "3         46       2733    23018     14238   ...               70   \n",
       "4         69       6962    23076     16171   ...               22   \n",
       "5         27       3188    42117     52547   ...               76   \n",
       "6         67       6400    16106     26198   ...               53   \n",
       "7         18       3542    22916    123625   ...               74   \n",
       "8         59       3608    18642     10989   ...               77   \n",
       "9         34       2582    20225     66498   ...               80   \n",
       "10        31       3211    21981    116671   ...               51   \n",
       "11        38       2314     9325      8107   ...               45   \n",
       "12        52      27830     8983     31807   ...               57   \n",
       "13        31       4093    15335     87338   ...               79   \n",
       "14        36      13602    19454     25720   ...                2   \n",
       "15        39      13254    23999     16798   ...                3   \n",
       "16        13       9561    23574     19497   ...               69   \n",
       "17        12      14993    19330     47480   ...               86   \n",
       "18        60       2540    15599     16128   ...               49   \n",
       "19        16      10387    36098     75056   ...                6   \n",
       "20        23      10997    14363     77823   ...               75   \n",
       "21        18       4687    21375     36024   ...               64   \n",
       "22        73       3436    12512     40690   ...               38   \n",
       "23        42       2829    16348     23816   ...               21   \n",
       "24        51      11712    16039     13493   ...               39   \n",
       "25        54       4553    14475     15015   ...               18   \n",
       "26        15      23945    28392     25143   ...               24   \n",
       "27        40       3048    28726     18292   ...               15   \n",
       "28        31       2286    15378     56140   ...               62   \n",
       "29        38       2848    15250     61510   ...               43   \n",
       "..       ...        ...      ...       ...   ...              ...   \n",
       "56        45       6092     8926     13851   ...               14   \n",
       "57        54       5501    18021      5994   ...               31   \n",
       "58        45       9242    20852     34069   ...               29   \n",
       "59        49       5740    10575     15400   ...               36   \n",
       "60        19       5963    22948     78148   ...               42   \n",
       "61        47       3299    12393     65995   ...               34   \n",
       "62        53       6001    12125    148039   ...               85   \n",
       "63        31      11644    15167     37843   ...               67   \n",
       "64        62      14472    14356     18623   ...               23   \n",
       "65        71       6001    14783     21233   ...               40   \n",
       "66        45       1983     3910     17003   ...               37   \n",
       "67        59      11701    11850     39714   ...               25   \n",
       "68        32       3710    20442     22184   ...               11   \n",
       "69        30       3357    10779     29280   ...               41   \n",
       "70        71       4204     2660      3632   ...               60   \n",
       "71        43       7245     7506      9523   ...               28   \n",
       "72        54       5303    16324      7315   ...               16   \n",
       "73        56       4007    16303      3460   ...               10   \n",
       "74        41      16956    25461     24533   ...               30   \n",
       "75        44       4964    12447     12836   ...                7   \n",
       "76        20       3449    29305     68980   ...               13   \n",
       "77        25       4558    23771     48317   ...               66   \n",
       "78        23       2449    14800     13380   ...               55   \n",
       "79        37       1246    17239     19024   ...               61   \n",
       "80        28      14035    62486     67963   ...               50   \n",
       "81        25       8922    35224     21851   ...               20   \n",
       "82        13      13817    19940     33497   ...               68   \n",
       "83        62       4040    14978     33029   ...               58   \n",
       "84        47       4276    16616     12789   ...               32   \n",
       "85        49      37015    24743     37016   ...               81   \n",
       "\n",
       "    Infanticide  Donation_clergy  Lottery  Desertion  Instruction  \\\n",
       "0            60               69       41         55           46   \n",
       "1            82               36       38         82           24   \n",
       "2            42               76       66         16           85   \n",
       "3            12               37       80         32           29   \n",
       "4            23               64       79         35            7   \n",
       "5            47               67       70         19           62   \n",
       "6            85               49       31         62            9   \n",
       "7            28               63       75         22           77   \n",
       "8            54                9       28         86           15   \n",
       "9            35               27       50         63           48   \n",
       "10            5               23       81         10           44   \n",
       "11           74               55        3         23           43   \n",
       "12           56               11       13         12           22   \n",
       "13           83               66       82          1           51   \n",
       "14            7               81       60         61           47   \n",
       "15           38               72       35         74           42   \n",
       "16           11               86       44         51           83   \n",
       "17           16               82       84          2           86   \n",
       "18           27               18       33         78           13   \n",
       "19           69               15       72         47           80   \n",
       "20           24               75       85          4           71   \n",
       "21           18               79       77         44           78   \n",
       "22           25                6       18         73            2   \n",
       "23           13               62       54         46           38   \n",
       "24           45               45       47         27           23   \n",
       "25           62               14       48         72           18   \n",
       "26           78               25       36         77           81   \n",
       "27           39               59       20         40           40   \n",
       "28           59               13       25         15           33   \n",
       "29           13               32       74         30           44   \n",
       "..          ...              ...      ...        ...          ...   \n",
       "56           81               38        7         64           30   \n",
       "57           86               50       43         57           20   \n",
       "58           50               31       57         25           33   \n",
       "59           79               10       27         48           26   \n",
       "60           63               61       53          8           76   \n",
       "61           72               60       34          7           28   \n",
       "62           75               71       76         20           21   \n",
       "63           84               77       11         18           52   \n",
       "64           48               51        5         53           12   \n",
       "65           53               17       10         56            5   \n",
       "66           33               21        2         14           31   \n",
       "67           68               57       65         83           14   \n",
       "68           10               58       45         31           49   \n",
       "69           57               19       49         75           35   \n",
       "70           67               53        1         33            6   \n",
       "71           61               74        9         36           35   \n",
       "72           73               26       29         67           37   \n",
       "73           30               24        6         42           17   \n",
       "74            4               85       71         84           39   \n",
       "75           64               33       30         80           34   \n",
       "76            9               47       67         17           73   \n",
       "77           41               52       64         39           64   \n",
       "78           49               40       26         52           69   \n",
       "79           76               54        8         41           45   \n",
       "80           44               30       68         79           59   \n",
       "81            1               44       40         38           65   \n",
       "82            6               78       55         11           84   \n",
       "83           34                5       14         85           11   \n",
       "84           22               35       51         66           27   \n",
       "85            2               84       83          9           25   \n",
       "\n",
       "    Prostitutes  Distance  Area  Pop1831  \n",
       "0            13   218.372  5762   346.03  \n",
       "1           327    65.945  7369   513.00  \n",
       "2            34   161.927  7340   298.26  \n",
       "3             2   351.399  6925   155.90  \n",
       "4             1   320.280  5549   129.10  \n",
       "5             1   279.413  5529   340.73  \n",
       "6            83   105.694  5229   289.62  \n",
       "7             3   385.313  4890   253.12  \n",
       "8           207    83.244  6004   246.36  \n",
       "9             1   370.949  6139   270.13  \n",
       "10            4   296.089  8735   359.06  \n",
       "11           25   362.568  5087   359.47  \n",
       "12          194   117.487  5548   494.70  \n",
       "13           20   245.849  5726   258.59  \n",
       "14            8   224.339  5956   362.53  \n",
       "15           27   238.538  6864   445.25  \n",
       "16           26   116.257  7235   256.06  \n",
       "17            3   227.899  5857   294.83  \n",
       "18          206   136.109  8763   375.88  \n",
       "19           16   225.161  6878   598.87  \n",
       "20           12   180.846  5565   265.38  \n",
       "21            3   253.776  9060   482.75  \n",
       "22           65   202.065  5234   265.54  \n",
       "23            8   295.543  6530   299.56  \n",
       "24          179    61.863  6040   424.25  \n",
       "25          180    54.558  5880   278.82  \n",
       "26           42   276.210  6733   524.40  \n",
       "27            5   323.004  5853   357.38  \n",
       "28            8   361.668  6257   427.86  \n",
       "29            1   343.569  6309   312.16  \n",
       "..          ...       ...   ...      ...  \n",
       "56          308   106.335  5743   989.94  \n",
       "57          337    33.768  5860   397.73  \n",
       "58          117    97.554  6103   441.88  \n",
       "59          163   104.400  6671   655.22  \n",
       "60           62   205.218  7970   573.11  \n",
       "61           12   387.935  7645   428.40  \n",
       "62            5   386.559  4464   233.03  \n",
       "63            5   403.445  4116   157.05  \n",
       "64          101   217.752  4755   540.21  \n",
       "65           26   217.971  3525   424.26  \n",
       "66          104   213.032  3249   434.43  \n",
       "67           99   176.135  5360   338.91  \n",
       "68           40   168.713  8575   523.97  \n",
       "69           79   108.294  6206   457.37  \n",
       "70         4744     0.000   762   935.11  \n",
       "71          546    75.658  6278   693.68  \n",
       "72          453    27.647  5915   323.89  \n",
       "73          874    16.888  5334   448.18  \n",
       "74            6   188.474  5999   297.85  \n",
       "75          302    69.520  6170   543.70  \n",
       "76            3   328.146  5758   333.84  \n",
       "77            4   313.090  3718   242.51  \n",
       "78            6   389.512  5973   317.50  \n",
       "79            2   337.215  3567   239.11  \n",
       "80            4   212.459  6720   330.36  \n",
       "81           18   170.523  6990   282.73  \n",
       "82            7   198.874  5520   285.13  \n",
       "83           43   174.477  5874   397.99  \n",
       "84          272    81.797  7427   352.49  \n",
       "85            1   539.213  8680   195.41  \n",
       "\n",
       "[86 rows x 24 columns]"
      ]
     },
     "execution_count": 146,
     "metadata": {},
     "output_type": "execute_result"
    }
   ],
   "source": [
    "dat"
   ]
  },
  {
   "cell_type": "code",
   "execution_count": 147,
   "metadata": {},
   "outputs": [
    {
     "data": {
      "text/html": [
       "<div>\n",
       "<style scoped>\n",
       "    .dataframe tbody tr th:only-of-type {\n",
       "        vertical-align: middle;\n",
       "    }\n",
       "\n",
       "    .dataframe tbody tr th {\n",
       "        vertical-align: top;\n",
       "    }\n",
       "\n",
       "    .dataframe thead th {\n",
       "        text-align: right;\n",
       "    }\n",
       "</style>\n",
       "<table border=\"1\" class=\"dataframe\">\n",
       "  <thead>\n",
       "    <tr style=\"text-align: right;\">\n",
       "      <th></th>\n",
       "      <th>Name</th>\n",
       "      <th>Age</th>\n",
       "    </tr>\n",
       "  </thead>\n",
       "  <tbody>\n",
       "    <tr>\n",
       "      <th>0</th>\n",
       "      <td>Tom</td>\n",
       "      <td>20</td>\n",
       "    </tr>\n",
       "    <tr>\n",
       "      <th>1</th>\n",
       "      <td>nick</td>\n",
       "      <td>21</td>\n",
       "    </tr>\n",
       "    <tr>\n",
       "      <th>2</th>\n",
       "      <td>krish</td>\n",
       "      <td>19</td>\n",
       "    </tr>\n",
       "    <tr>\n",
       "      <th>3</th>\n",
       "      <td>jack</td>\n",
       "      <td>18</td>\n",
       "    </tr>\n",
       "  </tbody>\n",
       "</table>\n",
       "</div>"
      ],
      "text/plain": [
       "    Name  Age\n",
       "0    Tom   20\n",
       "1   nick   21\n",
       "2  krish   19\n",
       "3   jack   18"
      ]
     },
     "execution_count": 147,
     "metadata": {},
     "output_type": "execute_result"
    }
   ],
   "source": [
    "data = {'Name':['Tom', 'nick', 'krish', 'jack'], 'Age':[20, 21, 19, 18]} \n",
    "  \n",
    "# Create DataFrame \n",
    "df = pd.DataFrame(data) \n",
    "  \n",
    "# Print the output. \n",
    "df"
   ]
  },
  {
   "cell_type": "code",
   "execution_count": 148,
   "metadata": {},
   "outputs": [
    {
     "data": {
      "text/html": [
       "<div>\n",
       "<style scoped>\n",
       "    .dataframe tbody tr th:only-of-type {\n",
       "        vertical-align: middle;\n",
       "    }\n",
       "\n",
       "    .dataframe tbody tr th {\n",
       "        vertical-align: top;\n",
       "    }\n",
       "\n",
       "    .dataframe thead th {\n",
       "        text-align: right;\n",
       "    }\n",
       "</style>\n",
       "<table border=\"1\" class=\"dataframe\">\n",
       "  <thead>\n",
       "    <tr style=\"text-align: right;\">\n",
       "      <th></th>\n",
       "      <th>First Score</th>\n",
       "      <th>Second Score</th>\n",
       "      <th>Third Score</th>\n",
       "    </tr>\n",
       "  </thead>\n",
       "  <tbody>\n",
       "    <tr>\n",
       "      <th>0</th>\n",
       "      <td>100.0</td>\n",
       "      <td>30.0</td>\n",
       "      <td>0.0</td>\n",
       "    </tr>\n",
       "    <tr>\n",
       "      <th>1</th>\n",
       "      <td>90.0</td>\n",
       "      <td>45.0</td>\n",
       "      <td>40.0</td>\n",
       "    </tr>\n",
       "    <tr>\n",
       "      <th>2</th>\n",
       "      <td>0.0</td>\n",
       "      <td>56.0</td>\n",
       "      <td>80.0</td>\n",
       "    </tr>\n",
       "    <tr>\n",
       "      <th>3</th>\n",
       "      <td>95.0</td>\n",
       "      <td>0.0</td>\n",
       "      <td>98.0</td>\n",
       "    </tr>\n",
       "  </tbody>\n",
       "</table>\n",
       "</div>"
      ],
      "text/plain": [
       "   First Score  Second Score  Third Score\n",
       "0        100.0          30.0          0.0\n",
       "1         90.0          45.0         40.0\n",
       "2          0.0          56.0         80.0\n",
       "3         95.0           0.0         98.0"
      ]
     },
     "execution_count": 148,
     "metadata": {},
     "output_type": "execute_result"
    }
   ],
   "source": [
    "# importing pandas as pd \n",
    "import pandas as pd \n",
    "  \n",
    "# importing numpy as np \n",
    "import numpy as np \n",
    "  \n",
    "# dictionary of lists \n",
    "dict = {'First Score':[100, 90, np.nan, 95], \n",
    "        'Second Score': [30, 45, 56, np.nan], \n",
    "        'Third Score':[np.nan, 40, 80, 98]} \n",
    "  \n",
    "# creating a dataframe from dictionary \n",
    "df = pd.DataFrame(dict) \n",
    "  \n",
    "# filling missing value using fillna()   \n",
    "df.fillna(0)"
   ]
  },
  {
   "cell_type": "code",
   "execution_count": 149,
   "metadata": {},
   "outputs": [
    {
     "data": {
      "text/html": [
       "<div>\n",
       "<style scoped>\n",
       "    .dataframe tbody tr th:only-of-type {\n",
       "        vertical-align: middle;\n",
       "    }\n",
       "\n",
       "    .dataframe tbody tr th {\n",
       "        vertical-align: top;\n",
       "    }\n",
       "\n",
       "    .dataframe thead th {\n",
       "        text-align: right;\n",
       "    }\n",
       "</style>\n",
       "<table border=\"1\" class=\"dataframe\">\n",
       "  <thead>\n",
       "    <tr style=\"text-align: right;\">\n",
       "      <th></th>\n",
       "      <th>letter</th>\n",
       "      <th>number</th>\n",
       "      <th>animal</th>\n",
       "      <th>name</th>\n",
       "    </tr>\n",
       "  </thead>\n",
       "  <tbody>\n",
       "    <tr>\n",
       "      <th>0</th>\n",
       "      <td>a</td>\n",
       "      <td>1</td>\n",
       "      <td>bird</td>\n",
       "      <td>polly</td>\n",
       "    </tr>\n",
       "    <tr>\n",
       "      <th>1</th>\n",
       "      <td>b</td>\n",
       "      <td>2</td>\n",
       "      <td>monkey</td>\n",
       "      <td>george</td>\n",
       "    </tr>\n",
       "  </tbody>\n",
       "</table>\n",
       "</div>"
      ],
      "text/plain": [
       "  letter  number  animal    name\n",
       "0      a       1    bird   polly\n",
       "1      b       2  monkey  george"
      ]
     },
     "execution_count": 149,
     "metadata": {},
     "output_type": "execute_result"
    }
   ],
   "source": [
    "df1 = pd.DataFrame([['a', 1], ['b', 2]], columns=['letter', 'number'])\n",
    "df4 = pd.DataFrame([['bird', 'polly'], ['monkey', 'george']], columns=['animal', 'name'])\n",
    "pd.concat([df1, df4], axis=1)\n"
   ]
  },
  {
   "cell_type": "code",
   "execution_count": 150,
   "metadata": {},
   "outputs": [
    {
     "name": "stdout",
     "output_type": "stream",
     "text": [
      "4\n",
      "<class 'int'>\n",
      "5\n",
      "3\n",
      "8\n",
      "16\n",
      "5\n",
      "10\n",
      "<class 'float'>\n",
      "1.5 2.5 3.0 2.25\n"
     ]
    }
   ],
   "source": [
    "x = 4\n",
    "print(x)       # Prints \"3\"\n",
    "print(type(x)) # Prints \"<class 'int'>\"\n",
    "print(x + 1)   # Addition; prints \"4\"\n",
    "print(x - 1)   # Subtraction; prints \"2\"\n",
    "print(x * 2)   # Multiplication; prints \"6\"\n",
    "print(x ** 2)  # Exponentiation; prints \"9\"\n",
    "x += 1\n",
    "print(x)  # Prints \"5\"\n",
    "x *= 2\n",
    "print(x)  # Prints \"10\"\n",
    "y = 1.5\n",
    "print(type(y)) # Prints \"<class 'float'>\"\n",
    "print(y, y + 1, y * 2, y ** 2) # Prints \"1.5 2.5 3.0 2.25\""
   ]
  },
  {
   "cell_type": "code",
   "execution_count": 151,
   "metadata": {},
   "outputs": [
    {
     "name": "stdout",
     "output_type": "stream",
     "text": [
      "[1, 2, 3, 4, 5, 9, 10]\n"
     ]
    }
   ],
   "source": [
    "def quicksort(array):\n",
    "    if len(array) <= 1:\n",
    "        return array\n",
    "    pivot = array[len(array) // 2]\n",
    "    left = [x for x in array if x < pivot]\n",
    "    middle = [x for x in array if x == pivot]\n",
    "    right = [x for x in array if x > pivot]\n",
    "    return quicksort(left) + middle + quicksort(right)\n",
    "\n",
    "print(quicksort([4,5,3,1,2,10,9]))\n",
    "# Prints \"[1, 2, 3, 4, 5, 9, 10]\""
   ]
  },
  {
   "cell_type": "code",
   "execution_count": 152,
   "metadata": {},
   "outputs": [
    {
     "name": "stdout",
     "output_type": "stream",
     "text": [
      "1: dog\n",
      "2: cat\n",
      "3: fish\n"
     ]
    }
   ],
   "source": [
    "animals = {'cat', 'dog', 'fish'}\n",
    "for idx, animal in enumerate(animals):\n",
    "    print('%d: %s' % (idx + 1, animal))\n",
    "# Prints \"#1: fish\", \"#2: dog\", \"#3: cat\""
   ]
  },
  {
   "cell_type": "code",
   "execution_count": 153,
   "metadata": {},
   "outputs": [
    {
     "name": "stdout",
     "output_type": "stream",
     "text": [
      "{0, 1, 2, 3, 4, 5}\n"
     ]
    }
   ],
   "source": [
    "from math import sqrt\n",
    "nums = {int(sqrt(x)) for x in range(30)}\n",
    "print(nums)  # Prints \"{0, 1, 2, 3, 4, 5}\""
   ]
  },
  {
   "cell_type": "code",
   "execution_count": 1,
   "metadata": {},
   "outputs": [
    {
     "name": "stdout",
     "output_type": "stream",
     "text": [
      "[0, 1, 4, 9, 16]\n"
     ]
    }
   ],
   "source": [
    "nums = [0, 1, 2, 3, 4]\n",
    "squares = [x ** 2 for x in nums]\n",
    "print(squares)   # Prints [0, 1, 4, 9, 16]"
   ]
  },
  {
   "cell_type": "code",
   "execution_count": 11,
   "metadata": {},
   "outputs": [
    {
     "name": "stdout",
     "output_type": "stream",
     "text": [
      "(3, 2)\n",
      "[1 4 5]\n"
     ]
    }
   ],
   "source": [
    "import numpy as np\n",
    "\n",
    "a = np.array([[1,2], [3, 4], [5, 6]])\n",
    "\n",
    "# An example of integer array indexing.\n",
    "# The returned array will have shape (3,) and\n",
    "print(a.shape)\n",
    "print(a[[0,1,2],[0,1,0]])  # Prints \"[1 4 5]\""
   ]
  },
  {
   "cell_type": "code",
   "execution_count": 12,
   "metadata": {},
   "outputs": [],
   "source": [
    "\n",
    "import numpy as np\n",
    "\n",
    "# Create a new array from which we will select elements\n",
    "a = np.array([[1,2,3], [4,5,6], [7,8,9], [10, 11, 12]])"
   ]
  },
  {
   "cell_type": "code",
   "execution_count": 13,
   "metadata": {},
   "outputs": [
    {
     "name": "stdout",
     "output_type": "stream",
     "text": [
      "[[ 1  2  3]\n",
      " [ 4  5  6]\n",
      " [ 7  8  9]\n",
      " [10 11 12]]\n"
     ]
    }
   ],
   "source": [
    "print(a) "
   ]
  },
  {
   "cell_type": "code",
   "execution_count": 14,
   "metadata": {},
   "outputs": [
    {
     "data": {
      "text/plain": [
       "array([0, 2, 0, 1])"
      ]
     },
     "execution_count": 14,
     "metadata": {},
     "output_type": "execute_result"
    }
   ],
   "source": [
    "b = np.array([0, 2, 0, 1])\n",
    "b"
   ]
  },
  {
   "cell_type": "code",
   "execution_count": 17,
   "metadata": {},
   "outputs": [
    {
     "name": "stdout",
     "output_type": "stream",
     "text": [
      "[ 1  6  7 11]\n"
     ]
    }
   ],
   "source": [
    "print(a[np.arange(4), b])"
   ]
  },
  {
   "cell_type": "code",
   "execution_count": 18,
   "metadata": {},
   "outputs": [
    {
     "name": "stdout",
     "output_type": "stream",
     "text": [
      "[[11  2  3]\n",
      " [ 4  5 16]\n",
      " [17  8  9]\n",
      " [10 21 12]]\n"
     ]
    }
   ],
   "source": [
    "a[np.arange(4), b] += 10\n",
    "\n",
    "print(a)"
   ]
  },
  {
   "cell_type": "code",
   "execution_count": null,
   "metadata": {},
   "outputs": [],
   "source": []
  }
 ],
 "metadata": {
  "kernelspec": {
   "display_name": "Python 3",
   "language": "python",
   "name": "python3"
  },
  "language_info": {
   "codemirror_mode": {
    "name": "ipython",
    "version": 3
   },
   "file_extension": ".py",
   "mimetype": "text/x-python",
   "name": "python",
   "nbconvert_exporter": "python",
   "pygments_lexer": "ipython3",
   "version": "3.6.5"
  }
 },
 "nbformat": 4,
 "nbformat_minor": 2
}
